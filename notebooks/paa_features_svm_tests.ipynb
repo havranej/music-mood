{
 "cells": [
  {
   "cell_type": "code",
   "execution_count": 25,
   "metadata": {},
   "outputs": [],
   "source": [
    "import pandas as pd\n",
    "import numpy as np\n",
    "import matplotlib.pyplot as plt\n",
    "import seaborn as sns\n",
    "\n",
    "from sklearn.preprocessing import StandardScaler\n",
    "\n",
    "from sklearn import svm\n",
    "from sklearn import linear_model\n",
    "\n",
    "from sklearn.metrics import mean_squared_error, r2_score\n",
    "from math import sqrt\n",
    "\n",
    "%matplotlib inline"
   ]
  },
  {
   "cell_type": "code",
   "execution_count": 3,
   "metadata": {},
   "outputs": [
    {
     "name": "stdout",
     "output_type": "stream",
     "text": [
      "619 train cases | 125 test cases\n"
     ]
    }
   ],
   "source": [
    "arousal = pd.read_csv(\"../data/annotations/arousal_cont_average.csv\", index_col = 0) # This will be our target\n",
    "arousal = arousal.iloc[:,:-1] # We don't take the last timestamp, because some songs are slightly shorter\n",
    "annotations = pd.read_csv(\"../data/annotations/songs_info.csv\", index_col = 0)\n",
    "annotations.Genre = annotations.Genre.str.strip()\n",
    "\n",
    "train_ids = annotations.index[annotations[\"Mediaeval 2013 set\"] == \"development\"]\n",
    "test_ids = annotations.index[annotations[\"Mediaeval 2013 set\"] == \"evaluation\"]\n",
    "\n",
    "print(f\"{len(train_ids)} train cases | {len(test_ids)} test cases\")"
   ]
  },
  {
   "cell_type": "code",
   "execution_count": 4,
   "metadata": {},
   "outputs": [
    {
     "data": {
      "text/html": [
       "<div>\n",
       "<style scoped>\n",
       "    .dataframe tbody tr th:only-of-type {\n",
       "        vertical-align: middle;\n",
       "    }\n",
       "\n",
       "    .dataframe tbody tr th {\n",
       "        vertical-align: top;\n",
       "    }\n",
       "\n",
       "    .dataframe thead th {\n",
       "        text-align: right;\n",
       "    }\n",
       "</style>\n",
       "<table border=\"1\" class=\"dataframe\">\n",
       "  <thead>\n",
       "    <tr style=\"text-align: right;\">\n",
       "      <th></th>\n",
       "      <th>sample_15000ms</th>\n",
       "      <th>sample_15500ms</th>\n",
       "      <th>sample_16000ms</th>\n",
       "      <th>sample_16500ms</th>\n",
       "      <th>sample_17000ms</th>\n",
       "      <th>sample_17500ms</th>\n",
       "      <th>sample_18000ms</th>\n",
       "      <th>sample_18500ms</th>\n",
       "      <th>sample_19000ms</th>\n",
       "      <th>sample_19500ms</th>\n",
       "      <th>...</th>\n",
       "      <th>sample_40000ms</th>\n",
       "      <th>sample_40500ms</th>\n",
       "      <th>sample_41000ms</th>\n",
       "      <th>sample_41500ms</th>\n",
       "      <th>sample_42000ms</th>\n",
       "      <th>sample_42500ms</th>\n",
       "      <th>sample_43000ms</th>\n",
       "      <th>sample_43500ms</th>\n",
       "      <th>sample_44000ms</th>\n",
       "      <th>sample_44500ms</th>\n",
       "    </tr>\n",
       "    <tr>\n",
       "      <th>song_id</th>\n",
       "      <th></th>\n",
       "      <th></th>\n",
       "      <th></th>\n",
       "      <th></th>\n",
       "      <th></th>\n",
       "      <th></th>\n",
       "      <th></th>\n",
       "      <th></th>\n",
       "      <th></th>\n",
       "      <th></th>\n",
       "      <th></th>\n",
       "      <th></th>\n",
       "      <th></th>\n",
       "      <th></th>\n",
       "      <th></th>\n",
       "      <th></th>\n",
       "      <th></th>\n",
       "      <th></th>\n",
       "      <th></th>\n",
       "      <th></th>\n",
       "      <th></th>\n",
       "    </tr>\n",
       "  </thead>\n",
       "  <tbody>\n",
       "    <tr>\n",
       "      <th>2</th>\n",
       "      <td>-0.109388</td>\n",
       "      <td>-0.114943</td>\n",
       "      <td>-0.116414</td>\n",
       "      <td>-0.118614</td>\n",
       "      <td>-0.126458</td>\n",
       "      <td>-0.133200</td>\n",
       "      <td>-0.136857</td>\n",
       "      <td>-0.144714</td>\n",
       "      <td>-0.138987</td>\n",
       "      <td>-0.137604</td>\n",
       "      <td>...</td>\n",
       "      <td>-0.256901</td>\n",
       "      <td>-0.259550</td>\n",
       "      <td>-0.262237</td>\n",
       "      <td>-0.261481</td>\n",
       "      <td>-0.264916</td>\n",
       "      <td>-0.265397</td>\n",
       "      <td>-0.265162</td>\n",
       "      <td>-0.264470</td>\n",
       "      <td>-0.265842</td>\n",
       "      <td>-0.267091</td>\n",
       "    </tr>\n",
       "    <tr>\n",
       "      <th>3</th>\n",
       "      <td>-0.110847</td>\n",
       "      <td>-0.123974</td>\n",
       "      <td>-0.131104</td>\n",
       "      <td>-0.135957</td>\n",
       "      <td>-0.140777</td>\n",
       "      <td>-0.144664</td>\n",
       "      <td>-0.163118</td>\n",
       "      <td>-0.165218</td>\n",
       "      <td>-0.158859</td>\n",
       "      <td>-0.156783</td>\n",
       "      <td>...</td>\n",
       "      <td>-0.265676</td>\n",
       "      <td>-0.265929</td>\n",
       "      <td>-0.263960</td>\n",
       "      <td>-0.263571</td>\n",
       "      <td>-0.262956</td>\n",
       "      <td>-0.260337</td>\n",
       "      <td>-0.248710</td>\n",
       "      <td>-0.245516</td>\n",
       "      <td>-0.251299</td>\n",
       "      <td>-0.254619</td>\n",
       "    </tr>\n",
       "    <tr>\n",
       "      <th>4</th>\n",
       "      <td>0.222328</td>\n",
       "      <td>0.179448</td>\n",
       "      <td>0.178389</td>\n",
       "      <td>0.184057</td>\n",
       "      <td>0.176043</td>\n",
       "      <td>0.178720</td>\n",
       "      <td>0.176345</td>\n",
       "      <td>0.175793</td>\n",
       "      <td>0.176155</td>\n",
       "      <td>0.176605</td>\n",
       "      <td>...</td>\n",
       "      <td>0.309625</td>\n",
       "      <td>0.298644</td>\n",
       "      <td>0.294144</td>\n",
       "      <td>0.302703</td>\n",
       "      <td>0.297487</td>\n",
       "      <td>0.303424</td>\n",
       "      <td>0.298097</td>\n",
       "      <td>0.304340</td>\n",
       "      <td>0.304115</td>\n",
       "      <td>0.305079</td>\n",
       "    </tr>\n",
       "    <tr>\n",
       "      <th>5</th>\n",
       "      <td>-0.255613</td>\n",
       "      <td>-0.251578</td>\n",
       "      <td>-0.251957</td>\n",
       "      <td>-0.251123</td>\n",
       "      <td>-0.250762</td>\n",
       "      <td>-0.251957</td>\n",
       "      <td>-0.251957</td>\n",
       "      <td>-0.251957</td>\n",
       "      <td>-0.251957</td>\n",
       "      <td>-0.251957</td>\n",
       "      <td>...</td>\n",
       "      <td>-0.222826</td>\n",
       "      <td>-0.225898</td>\n",
       "      <td>-0.228913</td>\n",
       "      <td>-0.228913</td>\n",
       "      <td>-0.228913</td>\n",
       "      <td>-0.228913</td>\n",
       "      <td>-0.227561</td>\n",
       "      <td>-0.227609</td>\n",
       "      <td>-0.229996</td>\n",
       "      <td>-0.243920</td>\n",
       "    </tr>\n",
       "    <tr>\n",
       "      <th>7</th>\n",
       "      <td>0.464233</td>\n",
       "      <td>0.460788</td>\n",
       "      <td>0.460990</td>\n",
       "      <td>0.461046</td>\n",
       "      <td>0.457239</td>\n",
       "      <td>0.465701</td>\n",
       "      <td>0.471808</td>\n",
       "      <td>0.469918</td>\n",
       "      <td>0.473376</td>\n",
       "      <td>0.470050</td>\n",
       "      <td>...</td>\n",
       "      <td>0.331689</td>\n",
       "      <td>0.333163</td>\n",
       "      <td>0.331243</td>\n",
       "      <td>0.333927</td>\n",
       "      <td>0.333740</td>\n",
       "      <td>0.340782</td>\n",
       "      <td>0.339002</td>\n",
       "      <td>0.339271</td>\n",
       "      <td>0.340961</td>\n",
       "      <td>0.342020</td>\n",
       "    </tr>\n",
       "    <tr>\n",
       "      <th>...</th>\n",
       "      <td>...</td>\n",
       "      <td>...</td>\n",
       "      <td>...</td>\n",
       "      <td>...</td>\n",
       "      <td>...</td>\n",
       "      <td>...</td>\n",
       "      <td>...</td>\n",
       "      <td>...</td>\n",
       "      <td>...</td>\n",
       "      <td>...</td>\n",
       "      <td>...</td>\n",
       "      <td>...</td>\n",
       "      <td>...</td>\n",
       "      <td>...</td>\n",
       "      <td>...</td>\n",
       "      <td>...</td>\n",
       "      <td>...</td>\n",
       "      <td>...</td>\n",
       "      <td>...</td>\n",
       "      <td>...</td>\n",
       "      <td>...</td>\n",
       "    </tr>\n",
       "    <tr>\n",
       "      <th>995</th>\n",
       "      <td>-0.083658</td>\n",
       "      <td>-0.079965</td>\n",
       "      <td>-0.080614</td>\n",
       "      <td>-0.077533</td>\n",
       "      <td>-0.081066</td>\n",
       "      <td>-0.082564</td>\n",
       "      <td>-0.075276</td>\n",
       "      <td>-0.071917</td>\n",
       "      <td>-0.072352</td>\n",
       "      <td>-0.073255</td>\n",
       "      <td>...</td>\n",
       "      <td>-0.047891</td>\n",
       "      <td>-0.046469</td>\n",
       "      <td>-0.044649</td>\n",
       "      <td>-0.041990</td>\n",
       "      <td>-0.035563</td>\n",
       "      <td>-0.037822</td>\n",
       "      <td>-0.040367</td>\n",
       "      <td>-0.043850</td>\n",
       "      <td>-0.049861</td>\n",
       "      <td>-0.046132</td>\n",
       "    </tr>\n",
       "    <tr>\n",
       "      <th>996</th>\n",
       "      <td>0.340385</td>\n",
       "      <td>0.339627</td>\n",
       "      <td>0.340270</td>\n",
       "      <td>0.335955</td>\n",
       "      <td>0.338222</td>\n",
       "      <td>0.335331</td>\n",
       "      <td>0.340030</td>\n",
       "      <td>0.343517</td>\n",
       "      <td>0.347987</td>\n",
       "      <td>0.352064</td>\n",
       "      <td>...</td>\n",
       "      <td>0.361213</td>\n",
       "      <td>0.364017</td>\n",
       "      <td>0.366737</td>\n",
       "      <td>0.366231</td>\n",
       "      <td>0.366730</td>\n",
       "      <td>0.365032</td>\n",
       "      <td>0.366610</td>\n",
       "      <td>0.367975</td>\n",
       "      <td>0.370551</td>\n",
       "      <td>0.369909</td>\n",
       "    </tr>\n",
       "    <tr>\n",
       "      <th>997</th>\n",
       "      <td>0.367088</td>\n",
       "      <td>0.368839</td>\n",
       "      <td>0.352861</td>\n",
       "      <td>0.311679</td>\n",
       "      <td>0.278800</td>\n",
       "      <td>0.253148</td>\n",
       "      <td>0.249393</td>\n",
       "      <td>0.243813</td>\n",
       "      <td>0.238716</td>\n",
       "      <td>0.240276</td>\n",
       "      <td>...</td>\n",
       "      <td>0.245477</td>\n",
       "      <td>0.257732</td>\n",
       "      <td>0.293368</td>\n",
       "      <td>0.312197</td>\n",
       "      <td>0.327872</td>\n",
       "      <td>0.337830</td>\n",
       "      <td>0.332809</td>\n",
       "      <td>0.332175</td>\n",
       "      <td>0.337198</td>\n",
       "      <td>0.353745</td>\n",
       "    </tr>\n",
       "    <tr>\n",
       "      <th>999</th>\n",
       "      <td>-0.176851</td>\n",
       "      <td>-0.173603</td>\n",
       "      <td>-0.179410</td>\n",
       "      <td>-0.171693</td>\n",
       "      <td>-0.167945</td>\n",
       "      <td>-0.162917</td>\n",
       "      <td>-0.163924</td>\n",
       "      <td>-0.164752</td>\n",
       "      <td>-0.168172</td>\n",
       "      <td>-0.168440</td>\n",
       "      <td>...</td>\n",
       "      <td>-0.154829</td>\n",
       "      <td>-0.156017</td>\n",
       "      <td>-0.155395</td>\n",
       "      <td>-0.158082</td>\n",
       "      <td>-0.158439</td>\n",
       "      <td>-0.154866</td>\n",
       "      <td>-0.155621</td>\n",
       "      <td>-0.155486</td>\n",
       "      <td>-0.161148</td>\n",
       "      <td>-0.151226</td>\n",
       "    </tr>\n",
       "    <tr>\n",
       "      <th>1000</th>\n",
       "      <td>0.432808</td>\n",
       "      <td>0.434732</td>\n",
       "      <td>0.440664</td>\n",
       "      <td>0.446552</td>\n",
       "      <td>0.444164</td>\n",
       "      <td>0.462809</td>\n",
       "      <td>0.441230</td>\n",
       "      <td>0.440520</td>\n",
       "      <td>0.440478</td>\n",
       "      <td>0.440819</td>\n",
       "      <td>...</td>\n",
       "      <td>0.498179</td>\n",
       "      <td>0.498058</td>\n",
       "      <td>0.495228</td>\n",
       "      <td>0.495945</td>\n",
       "      <td>0.494470</td>\n",
       "      <td>0.494153</td>\n",
       "      <td>0.495761</td>\n",
       "      <td>0.496498</td>\n",
       "      <td>0.500410</td>\n",
       "      <td>0.494764</td>\n",
       "    </tr>\n",
       "  </tbody>\n",
       "</table>\n",
       "<p>744 rows × 60 columns</p>\n",
       "</div>"
      ],
      "text/plain": [
       "         sample_15000ms  sample_15500ms  sample_16000ms  sample_16500ms  \\\n",
       "song_id                                                                   \n",
       "2             -0.109388       -0.114943       -0.116414       -0.118614   \n",
       "3             -0.110847       -0.123974       -0.131104       -0.135957   \n",
       "4              0.222328        0.179448        0.178389        0.184057   \n",
       "5             -0.255613       -0.251578       -0.251957       -0.251123   \n",
       "7              0.464233        0.460788        0.460990        0.461046   \n",
       "...                 ...             ...             ...             ...   \n",
       "995           -0.083658       -0.079965       -0.080614       -0.077533   \n",
       "996            0.340385        0.339627        0.340270        0.335955   \n",
       "997            0.367088        0.368839        0.352861        0.311679   \n",
       "999           -0.176851       -0.173603       -0.179410       -0.171693   \n",
       "1000           0.432808        0.434732        0.440664        0.446552   \n",
       "\n",
       "         sample_17000ms  sample_17500ms  sample_18000ms  sample_18500ms  \\\n",
       "song_id                                                                   \n",
       "2             -0.126458       -0.133200       -0.136857       -0.144714   \n",
       "3             -0.140777       -0.144664       -0.163118       -0.165218   \n",
       "4              0.176043        0.178720        0.176345        0.175793   \n",
       "5             -0.250762       -0.251957       -0.251957       -0.251957   \n",
       "7              0.457239        0.465701        0.471808        0.469918   \n",
       "...                 ...             ...             ...             ...   \n",
       "995           -0.081066       -0.082564       -0.075276       -0.071917   \n",
       "996            0.338222        0.335331        0.340030        0.343517   \n",
       "997            0.278800        0.253148        0.249393        0.243813   \n",
       "999           -0.167945       -0.162917       -0.163924       -0.164752   \n",
       "1000           0.444164        0.462809        0.441230        0.440520   \n",
       "\n",
       "         sample_19000ms  sample_19500ms  ...  sample_40000ms  sample_40500ms  \\\n",
       "song_id                                  ...                                   \n",
       "2             -0.138987       -0.137604  ...       -0.256901       -0.259550   \n",
       "3             -0.158859       -0.156783  ...       -0.265676       -0.265929   \n",
       "4              0.176155        0.176605  ...        0.309625        0.298644   \n",
       "5             -0.251957       -0.251957  ...       -0.222826       -0.225898   \n",
       "7              0.473376        0.470050  ...        0.331689        0.333163   \n",
       "...                 ...             ...  ...             ...             ...   \n",
       "995           -0.072352       -0.073255  ...       -0.047891       -0.046469   \n",
       "996            0.347987        0.352064  ...        0.361213        0.364017   \n",
       "997            0.238716        0.240276  ...        0.245477        0.257732   \n",
       "999           -0.168172       -0.168440  ...       -0.154829       -0.156017   \n",
       "1000           0.440478        0.440819  ...        0.498179        0.498058   \n",
       "\n",
       "         sample_41000ms  sample_41500ms  sample_42000ms  sample_42500ms  \\\n",
       "song_id                                                                   \n",
       "2             -0.262237       -0.261481       -0.264916       -0.265397   \n",
       "3             -0.263960       -0.263571       -0.262956       -0.260337   \n",
       "4              0.294144        0.302703        0.297487        0.303424   \n",
       "5             -0.228913       -0.228913       -0.228913       -0.228913   \n",
       "7              0.331243        0.333927        0.333740        0.340782   \n",
       "...                 ...             ...             ...             ...   \n",
       "995           -0.044649       -0.041990       -0.035563       -0.037822   \n",
       "996            0.366737        0.366231        0.366730        0.365032   \n",
       "997            0.293368        0.312197        0.327872        0.337830   \n",
       "999           -0.155395       -0.158082       -0.158439       -0.154866   \n",
       "1000           0.495228        0.495945        0.494470        0.494153   \n",
       "\n",
       "         sample_43000ms  sample_43500ms  sample_44000ms  sample_44500ms  \n",
       "song_id                                                                  \n",
       "2             -0.265162       -0.264470       -0.265842       -0.267091  \n",
       "3             -0.248710       -0.245516       -0.251299       -0.254619  \n",
       "4              0.298097        0.304340        0.304115        0.305079  \n",
       "5             -0.227561       -0.227609       -0.229996       -0.243920  \n",
       "7              0.339002        0.339271        0.340961        0.342020  \n",
       "...                 ...             ...             ...             ...  \n",
       "995           -0.040367       -0.043850       -0.049861       -0.046132  \n",
       "996            0.366610        0.367975        0.370551        0.369909  \n",
       "997            0.332809        0.332175        0.337198        0.353745  \n",
       "999           -0.155621       -0.155486       -0.161148       -0.151226  \n",
       "1000           0.495761        0.496498        0.500410        0.494764  \n",
       "\n",
       "[744 rows x 60 columns]"
      ]
     },
     "execution_count": 4,
     "metadata": {},
     "output_type": "execute_result"
    }
   ],
   "source": [
    "arousal"
   ]
  },
  {
   "cell_type": "code",
   "execution_count": 53,
   "metadata": {},
   "outputs": [
    {
     "data": {
      "text/plain": [
       "(60, 136)"
      ]
     },
     "execution_count": 53,
     "metadata": {},
     "output_type": "execute_result"
    }
   ],
   "source": [
    "STEP = 0.05\n",
    "\n",
    "df = pd.read_csv(\"../data/paa_features/2.csv\")\n",
    "df = df.iloc[int(14.5 / STEP) + 1:int(44.5 / STEP) + 1,:-2] # Our desired timerange + ommiting timestamps and song IDs\n",
    "X = df.to_numpy()\n",
    "\n",
    "frames_per_X = int(len(X) * STEP / 0.5) # 0.5 is our frequency of y\n",
    "\n",
    "X_stack = np.stack(np.split(X, frames_per_X)) \n",
    "X_stack.mean(axis = 1).shape\n",
    "X_stack.std(axis = 1).shape\n",
    "X = np.concatenate([X_stack.mean(axis = 1), X_stack.std(axis = 1)], axis = 1)\n",
    "X.shape"
   ]
  },
  {
   "cell_type": "code",
   "execution_count": 16,
   "metadata": {},
   "outputs": [
    {
     "name": "stdout",
     "output_type": "stream",
     "text": [
      "The history saving thread hit an unexpected error (OperationalError('database or disk is full')).History will not be written to the database.\n"
     ]
    }
   ],
   "source": [
    "def load_X(ids):\n",
    "    X_raw = []\n",
    "\n",
    "    for i in ids:\n",
    "        df = pd.read_csv(f\"../data/paa_features/{i}.csv\")\n",
    "        df = df.iloc[int(14.5 / STEP) + 1:int(44.5 / STEP) + 1,:-2] # Our desired timerange + ommiting timestamps and song IDs\n",
    "        X = df.to_numpy()\n",
    "\n",
    "        frames_per_X = int(len(X) * STEP / 0.5) # 0.5 is our frequency of y\n",
    "        X = np.stack(np.split(X, frames_per_X)).mean(axis = 1)\n",
    "\n",
    "        assert X.shape == (60, 68)\n",
    "\n",
    "        X_raw.append(X)\n",
    "\n",
    "    X_raw = np.concatenate(X_raw)\n",
    "    return X_raw"
   ]
  },
  {
   "cell_type": "code",
   "execution_count": 11,
   "metadata": {},
   "outputs": [
    {
     "data": {
      "text/plain": [
       "(37140, 68)"
      ]
     },
     "execution_count": 11,
     "metadata": {},
     "output_type": "execute_result"
    }
   ],
   "source": [
    "X_raw = []\n",
    "\n",
    "for i in train_ids:\n",
    "    df = pd.read_csv(f\"../data/paa_features/{i}.csv\")\n",
    "    df = df.iloc[int(14.5 / STEP) + 1:int(44.5 / STEP) + 1,:-2] # Our desired timerange + ommiting timestamps and song IDs\n",
    "    X = df.to_numpy()\n",
    "\n",
    "    frames_per_X = int(len(X) * STEP / 0.5) # 0.5 is our frequency of y\n",
    "    X = np.stack(np.split(X, frames_per_X)).mean(axis = 1)\n",
    "    \n",
    "    assert X.shape == (60, 68)\n",
    "    \n",
    "    X_raw.append(X)\n",
    "    \n",
    "X_raw = np.concatenate(X_raw)\n",
    "X_raw.shape"
   ]
  },
  {
   "cell_type": "code",
   "execution_count": 12,
   "metadata": {},
   "outputs": [
    {
     "data": {
      "text/plain": [
       "(37140,)"
      ]
     },
     "execution_count": 12,
     "metadata": {},
     "output_type": "execute_result"
    }
   ],
   "source": [
    "y_train = arousal.loc[train_ids].to_numpy().flatten()\n",
    "y_train.shape"
   ]
  },
  {
   "cell_type": "code",
   "execution_count": 17,
   "metadata": {},
   "outputs": [
    {
     "data": {
      "text/plain": [
       "(7500, 68)"
      ]
     },
     "execution_count": 17,
     "metadata": {},
     "output_type": "execute_result"
    }
   ],
   "source": [
    "X_test_raw = load_X(test_ids)\n",
    "X_test_raw.shape"
   ]
  },
  {
   "cell_type": "code",
   "execution_count": 18,
   "metadata": {},
   "outputs": [
    {
     "data": {
      "text/plain": [
       "(7500,)"
      ]
     },
     "execution_count": 18,
     "metadata": {},
     "output_type": "execute_result"
    }
   ],
   "source": [
    "y_test = arousal.loc[test_ids].to_numpy().flatten()\n",
    "y_test.shape"
   ]
  },
  {
   "cell_type": "markdown",
   "metadata": {},
   "source": [
    "# Scaling"
   ]
  },
  {
   "cell_type": "code",
   "execution_count": 19,
   "metadata": {},
   "outputs": [
    {
     "name": "stdout",
     "output_type": "stream",
     "text": [
      "[ 3.48151248e-15 -1.33867480e-15 -1.10473648e-13  1.36455946e-14\n",
      "  4.74429223e-14  5.60935849e-15 -8.13971041e-15  6.57893832e-16\n",
      "  1.16654128e-15 -1.19114615e-15  2.26781885e-16 -1.84113181e-15\n",
      "  2.39648545e-16  1.85405452e-15 -4.78809836e-16  6.09259546e-16\n",
      "  5.79770181e-16  3.31536390e-16 -4.36269969e-16 -2.53611528e-17\n",
      "  1.90218361e-16  1.03891976e-14  7.35382257e-16 -3.41844963e-15\n",
      " -4.77416676e-15  7.32143509e-15 -3.51647300e-15 -7.12583824e-15\n",
      " -3.52739363e-15  2.75652773e-15 -9.81813954e-15 -3.13293414e-15\n",
      "  1.95557535e-15 -1.17965232e-15  2.34973293e-17 -1.93108259e-18\n",
      " -7.60700065e-18 -3.67981837e-18  9.48203402e-18  4.14315862e-18\n",
      " -1.73109896e-17 -6.48676350e-18 -4.13658218e-17  1.45492575e-17\n",
      "  1.74178568e-17  1.46415519e-17 -2.09071078e-17 -5.87694794e-18\n",
      " -5.19314741e-18  1.31708203e-17  6.70199252e-18  1.34846959e-17\n",
      " -4.23582667e-18  2.71771476e-17 -1.27381203e-17 -5.27908956e-18\n",
      " -2.97882941e-18  8.34572942e-18  1.65008915e-18 -1.39002075e-17\n",
      "  7.19522569e-18 -6.89330720e-18 -2.73594944e-18  4.66628471e-18\n",
      "  5.61687955e-18  7.80504124e-18 -2.75341812e-18 -8.48958910e-18] [1. 1. 1. 1. 1. 1. 1. 1. 1. 1. 1. 1. 1. 1. 1. 1. 1. 1. 1. 1. 1. 1. 1. 1.\n",
      " 1. 1. 1. 1. 1. 1. 1. 1. 1. 1. 1. 1. 1. 1. 1. 1. 1. 1. 1. 1. 1. 1. 1. 1.\n",
      " 1. 1. 1. 1. 1. 1. 1. 1. 1. 1. 1. 1. 1. 1. 1. 1. 1. 1. 1. 1.]\n"
     ]
    }
   ],
   "source": [
    "scaler = StandardScaler()\n",
    "scaler.fit(X_raw)\n",
    "X_train = scaler.transform(X_raw)\n",
    "X_test = scaler.transform(X_test_raw)\n",
    "\n",
    "print(X_train.mean(axis = 0), X_train.std(axis = 0))"
   ]
  },
  {
   "cell_type": "code",
   "execution_count": 12,
   "metadata": {},
   "outputs": [
    {
     "data": {
      "text/plain": [
       "(37140,)"
      ]
     },
     "execution_count": 12,
     "metadata": {},
     "output_type": "execute_result"
    }
   ],
   "source": [
    "y_train = arousal.loc[train_ids].to_numpy().flatten()\n",
    "y_train.shape"
   ]
  },
  {
   "cell_type": "code",
   "execution_count": 17,
   "metadata": {},
   "outputs": [
    {
     "data": {
      "text/plain": [
       "(7500, 68)"
      ]
     },
     "execution_count": 17,
     "metadata": {},
     "output_type": "execute_result"
    }
   ],
   "source": [
    "X_test_raw = load_X(test_ids)\n",
    "X_test_raw.shape"
   ]
  },
  {
   "cell_type": "code",
   "execution_count": 18,
   "metadata": {},
   "outputs": [
    {
     "data": {
      "text/plain": [
       "(7500,)"
      ]
     },
     "execution_count": 18,
     "metadata": {},
     "output_type": "execute_result"
    }
   ],
   "source": [
    "y_test = arousal.loc[test_ids].to_numpy().flatten()\n",
    "y_test.shape"
   ]
  },
  {
   "cell_type": "markdown",
   "metadata": {},
   "source": [
    "# SVR"
   ]
  },
  {
   "cell_type": "code",
   "execution_count": 14,
   "metadata": {},
   "outputs": [
    {
     "data": {
      "text/plain": [
       "SVR(cache_size=4000)"
      ]
     },
     "execution_count": 14,
     "metadata": {},
     "output_type": "execute_result"
    }
   ],
   "source": [
    "svr = svm.SVR(cache_size = 4000)\n",
    "svr.fit(X_train, y_train)"
   ]
  },
  {
   "cell_type": "code",
   "execution_count": 15,
   "metadata": {},
   "outputs": [
    {
     "data": {
      "text/plain": [
       "0.11329075226580547"
      ]
     },
     "execution_count": 15,
     "metadata": {},
     "output_type": "execute_result"
    }
   ],
   "source": [
    "sqrt(mean_squared_error(y_train, svr.predict(X_train)))"
   ]
  },
  {
   "cell_type": "code",
   "execution_count": 46,
   "metadata": {},
   "outputs": [
    {
     "data": {
      "text/plain": [
       "0.22701809523116498"
      ]
     },
     "execution_count": 46,
     "metadata": {},
     "output_type": "execute_result"
    }
   ],
   "source": [
    "y_predict = svr.predict(X_test)\n",
    "sqrt(mean_squared_error(y_test, y_predict))"
   ]
  },
  {
   "cell_type": "code",
   "execution_count": 47,
   "metadata": {},
   "outputs": [
    {
     "data": {
      "text/plain": [
       "0.36844609801264916"
      ]
     },
     "execution_count": 47,
     "metadata": {},
     "output_type": "execute_result"
    }
   ],
   "source": [
    "r2_score(y_test, y_predict)"
   ]
  },
  {
   "cell_type": "code",
   "execution_count": 48,
   "metadata": {},
   "outputs": [
    {
     "data": {
      "text/plain": [
       "<seaborn.axisgrid.FacetGrid at 0x7f647440c850>"
      ]
     },
     "execution_count": 48,
     "metadata": {},
     "output_type": "execute_result"
    },
    {
     "data": {
      "image/png": "[encoded data removed]",
      "text/plain": [
       "<Figure size 360x360 with 1 Axes>"
      ]
     },
     "metadata": {
      "needs_background": "light"
     },
     "output_type": "display_data"
    }
   ],
   "source": [
    "lm_df = pd.DataFrame({\"Real\": y_test, \"Prediction\": y_predict})\n",
    "sns.lmplot(data = lm_df[:2000], x = \"Real\", y = \"Prediction\", markers = \"x\")"
   ]
  },
  {
   "cell_type": "markdown",
   "metadata": {},
   "source": [
    "# What if we add stds?\n",
    "\n",
    "It improves the results slightly (but still does)\n",
    "\n",
    "R2:  0.37 -> 0.39"
   ]
  },
  {
   "cell_type": "code",
   "execution_count": 54,
   "metadata": {},
   "outputs": [],
   "source": [
    "def load_X(ids):\n",
    "    X_raw = []\n",
    "\n",
    "    for i in ids:\n",
    "        df = pd.read_csv(f\"../data/paa_features/{i}.csv\")\n",
    "        df = df.iloc[int(14.5 / STEP) + 1:int(44.5 / STEP) + 1,:-2] # Our desired timerange + ommiting timestamps and song IDs\n",
    "        X = df.to_numpy()\n",
    "\n",
    "        frames_per_X = int(len(X) * STEP / 0.5) # 0.5 is our frequency of y\n",
    "        X_stack = np.stack(np.split(X, frames_per_X))\n",
    "        X = np.concatenate([X_stack.mean(axis = 1), X_stack.std(axis = 1)], axis = 1)\n",
    "\n",
    "\n",
    "        assert X.shape == (60, 136)\n",
    "\n",
    "        X_raw.append(X)\n",
    "\n",
    "    X_raw = np.concatenate(X_raw)\n",
    "    return X_raw"
   ]
  },
  {
   "cell_type": "code",
   "execution_count": 56,
   "metadata": {},
   "outputs": [
    {
     "data": {
      "text/plain": [
       "(37140, 136)"
      ]
     },
     "execution_count": 56,
     "metadata": {},
     "output_type": "execute_result"
    }
   ],
   "source": [
    "X_raw = load_X(train_ids)\n",
    "X_raw.shape"
   ]
  },
  {
   "cell_type": "code",
   "execution_count": 57,
   "metadata": {},
   "outputs": [
    {
     "data": {
      "text/plain": [
       "(37140,)"
      ]
     },
     "execution_count": 57,
     "metadata": {},
     "output_type": "execute_result"
    }
   ],
   "source": [
    "y_train = arousal.loc[train_ids].to_numpy().flatten()\n",
    "y_train.shape"
   ]
  },
  {
   "cell_type": "code",
   "execution_count": 58,
   "metadata": {},
   "outputs": [
    {
     "data": {
      "text/plain": [
       "(7500, 136)"
      ]
     },
     "execution_count": 58,
     "metadata": {},
     "output_type": "execute_result"
    }
   ],
   "source": [
    "X_test_raw = load_X(test_ids)\n",
    "X_test_raw.shape"
   ]
  },
  {
   "cell_type": "code",
   "execution_count": 59,
   "metadata": {},
   "outputs": [
    {
     "data": {
      "text/plain": [
       "(7500,)"
      ]
     },
     "execution_count": 59,
     "metadata": {},
     "output_type": "execute_result"
    }
   ],
   "source": [
    "y_test = arousal.loc[test_ids].to_numpy().flatten()\n",
    "y_test.shape"
   ]
  },
  {
   "cell_type": "code",
   "execution_count": 60,
   "metadata": {},
   "outputs": [
    {
     "name": "stdout",
     "output_type": "stream",
     "text": [
      "[ 3.48151248e-15 -1.33867480e-15 -1.10473648e-13  1.36455946e-14\n",
      "  4.74429223e-14  5.60935849e-15 -8.13971041e-15  6.57893832e-16\n",
      "  1.16654128e-15 -1.19114615e-15  2.26781885e-16 -1.84113181e-15\n",
      "  2.39648545e-16  1.85405452e-15 -4.78809836e-16  6.09259546e-16\n",
      "  5.79770181e-16  3.31536390e-16 -4.36269969e-16 -2.53611528e-17\n",
      "  1.90218361e-16  1.03891976e-14  7.35382257e-16 -3.41844963e-15\n",
      " -4.77416676e-15  7.32143509e-15 -3.51647300e-15 -7.12583824e-15\n",
      " -3.52739363e-15  2.75652773e-15 -9.81813954e-15 -3.13293414e-15\n",
      "  1.95557535e-15 -1.17965232e-15  2.34973293e-17 -1.93108259e-18\n",
      " -7.60700065e-18 -3.67981837e-18  9.48203402e-18  4.14315862e-18\n",
      " -1.73109896e-17 -6.48676350e-18 -4.13658218e-17  1.45492575e-17\n",
      "  1.74178568e-17  1.46415519e-17 -2.09071078e-17 -5.87694794e-18\n",
      " -5.19314741e-18  1.31708203e-17  6.70199252e-18  1.34846959e-17\n",
      " -4.23582667e-18  2.71771476e-17 -1.27381203e-17 -5.27908956e-18\n",
      " -2.97882941e-18  8.34572942e-18  1.65008915e-18 -1.39002075e-17\n",
      "  7.19522569e-18 -6.89330720e-18 -2.73594944e-18  4.66628471e-18\n",
      "  5.61687955e-18  7.80504124e-18 -2.75341812e-18 -8.48958910e-18\n",
      " -6.38804213e-15 -1.02469565e-14 -4.36974695e-15  2.55576987e-15\n",
      " -6.75319909e-16 -1.51310783e-15  1.05978466e-15  9.38867843e-16\n",
      "  6.63582903e-15 -1.06298268e-14  3.13412911e-15 -8.52627966e-15\n",
      " -1.05959167e-14 -2.08116418e-14 -3.90733936e-15 -5.38303023e-15\n",
      " -1.59155941e-14  8.36527939e-16  1.78346478e-14 -1.48169658e-14\n",
      "  1.31372804e-14 -2.63169340e-15 -5.39573173e-16  1.48173156e-14\n",
      "  6.54238488e-15 -1.70803881e-15 -3.83607912e-15 -7.49562561e-15\n",
      " -1.69348769e-15  7.13971454e-16 -1.14455056e-14 -9.99632451e-15\n",
      "  5.97251561e-16  5.02978859e-15  3.97788067e-15  2.34837112e-15\n",
      "  5.68535825e-15  5.61239860e-15 -1.03850692e-15  9.18393884e-15\n",
      "  2.95079228e-15 -2.48066391e-17 -4.70029164e-16 -4.00378587e-15\n",
      "  2.96215813e-15  1.10145857e-14  1.32251641e-14  1.73739351e-14\n",
      " -3.02858319e-15  2.40165573e-14 -1.14347651e-14 -1.96675366e-14\n",
      " -2.15647221e-15  1.48060018e-14 -1.04319712e-14 -4.84026897e-16\n",
      "  4.89385951e-16  6.89621279e-15  2.87205415e-15  1.91439935e-15\n",
      "  2.57637058e-15 -2.18345057e-15  2.08760640e-15  2.87659862e-15\n",
      "  3.29049448e-15 -1.80356836e-15  8.09394734e-15  2.59102259e-15] [1. 1. 1. 1. 1. 1. 1. 1. 1. 1. 1. 1. 1. 1. 1. 1. 1. 1. 1. 1. 1. 1. 1. 1.\n",
      " 1. 1. 1. 1. 1. 1. 1. 1. 1. 1. 1. 1. 1. 1. 1. 1. 1. 1. 1. 1. 1. 1. 1. 1.\n",
      " 1. 1. 1. 1. 1. 1. 1. 1. 1. 1. 1. 1. 1. 1. 1. 1. 1. 1. 1. 1. 1. 1. 1. 1.\n",
      " 1. 1. 1. 1. 1. 1. 1. 1. 1. 1. 1. 1. 1. 1. 1. 1. 1. 1. 1. 1. 1. 1. 1. 1.\n",
      " 1. 1. 1. 1. 1. 1. 1. 1. 1. 1. 1. 1. 1. 1. 1. 1. 1. 1. 1. 1. 1. 1. 1. 1.\n",
      " 1. 1. 1. 1. 1. 1. 1. 1. 1. 1. 1. 1. 1. 1. 1. 1.]\n"
     ]
    }
   ],
   "source": [
    "scaler = StandardScaler()\n",
    "scaler.fit(X_raw)\n",
    "X_train = scaler.transform(X_raw)\n",
    "X_test = scaler.transform(X_test_raw)\n",
    "\n",
    "print(X_train.mean(axis = 0), X_train.std(axis = 0))"
   ]
  },
  {
   "cell_type": "code",
   "execution_count": 61,
   "metadata": {},
   "outputs": [
    {
     "data": {
      "text/plain": [
       "SVR(cache_size=4000)"
      ]
     },
     "execution_count": 61,
     "metadata": {},
     "output_type": "execute_result"
    }
   ],
   "source": [
    "svr = svm.SVR(cache_size = 4000)\n",
    "svr.fit(X_train, y_train)"
   ]
  },
  {
   "cell_type": "code",
   "execution_count": 62,
   "metadata": {},
   "outputs": [
    {
     "data": {
      "text/plain": [
       "0.10146547616174452"
      ]
     },
     "execution_count": 62,
     "metadata": {},
     "output_type": "execute_result"
    }
   ],
   "source": [
    "sqrt(mean_squared_error(y_train, svr.predict(X_train)))"
   ]
  },
  {
   "cell_type": "code",
   "execution_count": 63,
   "metadata": {},
   "outputs": [
    {
     "data": {
      "text/plain": [
       "0.22303762090292148"
      ]
     },
     "execution_count": 63,
     "metadata": {},
     "output_type": "execute_result"
    }
   ],
   "source": [
    "y_predict = svr.predict(X_test)\n",
    "sqrt(mean_squared_error(y_test, y_predict))"
   ]
  },
  {
   "cell_type": "code",
   "execution_count": 64,
   "metadata": {},
   "outputs": [
    {
     "data": {
      "text/plain": [
       "0.390398931392382"
      ]
     },
     "execution_count": 64,
     "metadata": {},
     "output_type": "execute_result"
    }
   ],
   "source": [
    "r2_score(y_test, y_predict)"
   ]
  },
  {
   "cell_type": "code",
   "execution_count": 65,
   "metadata": {},
   "outputs": [
    {
     "data": {
      "text/plain": [
       "<seaborn.axisgrid.FacetGrid at 0x7f647431b8d0>"
      ]
     },
     "execution_count": 65,
     "metadata": {},
     "output_type": "execute_result"
    },
    {
     "data": {
      "image/png": "[encoded data removed]",
      "text/plain": [
       "<Figure size 360x360 with 1 Axes>"
      ]
     },
     "metadata": {
      "needs_background": "light"
     },
     "output_type": "display_data"
    }
   ],
   "source": [
    "lm_df = pd.DataFrame({\"Real\": y_test, \"Prediction\": y_predict})\n",
    "sns.lmplot(data = lm_df[:2000], x = \"Real\", y = \"Prediction\", markers = \"x\")"
   ]
  },
  {
   "cell_type": "code",
   "execution_count": null,
   "metadata": {},
   "outputs": [],
   "source": []
  }
 ],
 "metadata": {
  "kernelspec": {
   "display_name": "Python 3",
   "language": "python",
   "name": "python3"
  },
  "language_info": {
   "codemirror_mode": {
    "name": "ipython",
    "version": 3
   },
   "file_extension": ".py",
   "mimetype": "text/x-python",
   "name": "python",
   "nbconvert_exporter": "python",
   "pygments_lexer": "ipython3",
   "version": "3.7.9"
  }
 },
 "nbformat": 4,
 "nbformat_minor": 4
}
