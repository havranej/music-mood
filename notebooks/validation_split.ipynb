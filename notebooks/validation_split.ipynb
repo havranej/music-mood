{
 "cells": [
  {
   "cell_type": "code",
   "execution_count": 1,
   "metadata": {},
   "outputs": [],
   "source": [
    "import pandas as pd\n",
    "import numpy as np\n",
    "from sklearn.model_selection import train_test_split"
   ]
  },
  {
   "cell_type": "code",
   "execution_count": 3,
   "metadata": {},
   "outputs": [
    {
     "data": {
      "text/html": [
       "<div>\n",
       "<style scoped>\n",
       "    .dataframe tbody tr th:only-of-type {\n",
       "        vertical-align: middle;\n",
       "    }\n",
       "\n",
       "    .dataframe tbody tr th {\n",
       "        vertical-align: top;\n",
       "    }\n",
       "\n",
       "    .dataframe thead th {\n",
       "        text-align: right;\n",
       "    }\n",
       "</style>\n",
       "<table border=\"1\" class=\"dataframe\">\n",
       "  <thead>\n",
       "    <tr style=\"text-align: right;\">\n",
       "      <th></th>\n",
       "      <th>file_name</th>\n",
       "      <th>Artist</th>\n",
       "      <th>Song title</th>\n",
       "      <th>start of the segment (min.sec)</th>\n",
       "      <th>end of the segment (min.sec)</th>\n",
       "      <th>Genre</th>\n",
       "      <th>Mediaeval 2013 set</th>\n",
       "    </tr>\n",
       "    <tr>\n",
       "      <th>song_id</th>\n",
       "      <th></th>\n",
       "      <th></th>\n",
       "      <th></th>\n",
       "      <th></th>\n",
       "      <th></th>\n",
       "      <th></th>\n",
       "      <th></th>\n",
       "    </tr>\n",
       "  </thead>\n",
       "  <tbody>\n",
       "    <tr>\n",
       "      <th>2</th>\n",
       "      <td>2.mp3</td>\n",
       "      <td>The New Mystikal Troubadours</td>\n",
       "      <td>Tonight  A Lonely Century</td>\n",
       "      <td>0.48</td>\n",
       "      <td>1.33</td>\n",
       "      <td>Blues</td>\n",
       "      <td>development</td>\n",
       "    </tr>\n",
       "    <tr>\n",
       "      <th>3</th>\n",
       "      <td>3.mp3</td>\n",
       "      <td>Kevin MacLeod</td>\n",
       "      <td>DD Groove</td>\n",
       "      <td>0.36</td>\n",
       "      <td>1.21</td>\n",
       "      <td>Blues</td>\n",
       "      <td>evaluation</td>\n",
       "    </tr>\n",
       "    <tr>\n",
       "      <th>4</th>\n",
       "      <td>4.mp3</td>\n",
       "      <td>Kevin MacLeod</td>\n",
       "      <td>Slow Burn</td>\n",
       "      <td>1.29</td>\n",
       "      <td>2.14</td>\n",
       "      <td>Blues</td>\n",
       "      <td>development</td>\n",
       "    </tr>\n",
       "    <tr>\n",
       "      <th>5</th>\n",
       "      <td>5.mp3</td>\n",
       "      <td>My Bubba &amp; Mi</td>\n",
       "      <td>Nothing Much</td>\n",
       "      <td>0.36</td>\n",
       "      <td>1.21</td>\n",
       "      <td>Blues</td>\n",
       "      <td>development</td>\n",
       "    </tr>\n",
       "    <tr>\n",
       "      <th>7</th>\n",
       "      <td>7.mp3</td>\n",
       "      <td>Kevin MacLeod</td>\n",
       "      <td>Hustle</td>\n",
       "      <td>0.20</td>\n",
       "      <td>1.05</td>\n",
       "      <td>Blues</td>\n",
       "      <td>development</td>\n",
       "    </tr>\n",
       "    <tr>\n",
       "      <th>...</th>\n",
       "      <td>...</td>\n",
       "      <td>...</td>\n",
       "      <td>...</td>\n",
       "      <td>...</td>\n",
       "      <td>...</td>\n",
       "      <td>...</td>\n",
       "      <td>...</td>\n",
       "    </tr>\n",
       "    <tr>\n",
       "      <th>995</th>\n",
       "      <td>995.mp3</td>\n",
       "      <td>Benjamin Bret</td>\n",
       "      <td>Honte De Toi</td>\n",
       "      <td>1.08</td>\n",
       "      <td>1.53</td>\n",
       "      <td>Rock</td>\n",
       "      <td>development</td>\n",
       "    </tr>\n",
       "    <tr>\n",
       "      <th>996</th>\n",
       "      <td>996.mp3</td>\n",
       "      <td>Jahzzar</td>\n",
       "      <td>Fireworks</td>\n",
       "      <td>0.17</td>\n",
       "      <td>1.02</td>\n",
       "      <td>Rock</td>\n",
       "      <td>development</td>\n",
       "    </tr>\n",
       "    <tr>\n",
       "      <th>997</th>\n",
       "      <td>997.mp3</td>\n",
       "      <td>Halloween</td>\n",
       "      <td>Monster On Campus</td>\n",
       "      <td>0.28</td>\n",
       "      <td>1.13</td>\n",
       "      <td>Rock</td>\n",
       "      <td>development</td>\n",
       "    </tr>\n",
       "    <tr>\n",
       "      <th>999</th>\n",
       "      <td>999.mp3</td>\n",
       "      <td>Jahzzar</td>\n",
       "      <td>So Easy</td>\n",
       "      <td>0.51</td>\n",
       "      <td>1.36</td>\n",
       "      <td>Rock</td>\n",
       "      <td>development</td>\n",
       "    </tr>\n",
       "    <tr>\n",
       "      <th>1000</th>\n",
       "      <td>1000.mp3</td>\n",
       "      <td>Republic Of Lights-Got You Surrounded</td>\n",
       "      <td>Single</td>\n",
       "      <td>0.42</td>\n",
       "      <td>1.27</td>\n",
       "      <td>Rock</td>\n",
       "      <td>evaluation</td>\n",
       "    </tr>\n",
       "  </tbody>\n",
       "</table>\n",
       "<p>744 rows × 7 columns</p>\n",
       "</div>"
      ],
      "text/plain": [
       "        file_name                                  Artist  \\\n",
       "song_id                                                     \n",
       "2           2.mp3            The New Mystikal Troubadours   \n",
       "3           3.mp3                           Kevin MacLeod   \n",
       "4           4.mp3                           Kevin MacLeod   \n",
       "5           5.mp3                           My Bubba & Mi   \n",
       "7           7.mp3                           Kevin MacLeod   \n",
       "...           ...                                     ...   \n",
       "995       995.mp3                           Benjamin Bret   \n",
       "996       996.mp3                                 Jahzzar   \n",
       "997       997.mp3                               Halloween   \n",
       "999       999.mp3                                 Jahzzar   \n",
       "1000     1000.mp3  Republic Of Lights-Got You Surrounded    \n",
       "\n",
       "                        Song title  start of the segment (min.sec)  \\\n",
       "song_id                                                              \n",
       "2        Tonight  A Lonely Century                            0.48   \n",
       "3                        DD Groove                            0.36   \n",
       "4                        Slow Burn                            1.29   \n",
       "5                     Nothing Much                            0.36   \n",
       "7                           Hustle                            0.20   \n",
       "...                            ...                             ...   \n",
       "995                   Honte De Toi                            1.08   \n",
       "996                      Fireworks                            0.17   \n",
       "997              Monster On Campus                            0.28   \n",
       "999                        So Easy                            0.51   \n",
       "1000                        Single                            0.42   \n",
       "\n",
       "         end of the segment (min.sec)  Genre Mediaeval 2013 set  \n",
       "song_id                                                          \n",
       "2                                1.33  Blues        development  \n",
       "3                                1.21  Blues         evaluation  \n",
       "4                                2.14  Blues        development  \n",
       "5                                1.21  Blues        development  \n",
       "7                                1.05  Blues        development  \n",
       "...                               ...    ...                ...  \n",
       "995                              1.53   Rock        development  \n",
       "996                              1.02   Rock        development  \n",
       "997                              1.13   Rock        development  \n",
       "999                              1.36   Rock        development  \n",
       "1000                             1.27   Rock         evaluation  \n",
       "\n",
       "[744 rows x 7 columns]"
      ]
     },
     "execution_count": 3,
     "metadata": {},
     "output_type": "execute_result"
    }
   ],
   "source": [
    "annotations = pd.read_csv(\"../data/annotations/songs_info.csv\", index_col = 0)\n",
    "annotations"
   ]
  },
  {
   "cell_type": "code",
   "execution_count": 4,
   "metadata": {},
   "outputs": [
    {
     "data": {
      "text/plain": [
       "619"
      ]
     },
     "execution_count": 4,
     "metadata": {},
     "output_type": "execute_result"
    }
   ],
   "source": [
    "annot_development = annotations[annotations[\"Mediaeval 2013 set\"] == \"development\"]\n",
    "len(annot_development)"
   ]
  },
  {
   "cell_type": "code",
   "execution_count": 17,
   "metadata": {},
   "outputs": [],
   "source": [
    "train_ids, valid_ids = train_test_split(annot_development.index, train_size = 0.8, \n",
    "                                        random_state = 31415, stratify = annot_development.Genre)"
   ]
  },
  {
   "cell_type": "code",
   "execution_count": 18,
   "metadata": {},
   "outputs": [
    {
     "data": {
      "text/plain": [
       "<matplotlib.axes._subplots.AxesSubplot at 0x7f8e43aed750>"
      ]
     },
     "execution_count": 18,
     "metadata": {},
     "output_type": "execute_result"
    },
    {
     "data": {
      "image/png": "[encoded data removed]",
      "text/plain": [
       "<Figure size 432x288 with 1 Axes>"
      ]
     },
     "metadata": {
      "needs_background": "light"
     },
     "output_type": "display_data"
    }
   ],
   "source": [
    "annotations.loc[train_ids].Genre.hist()"
   ]
  },
  {
   "cell_type": "code",
   "execution_count": 19,
   "metadata": {},
   "outputs": [
    {
     "data": {
      "text/plain": [
       "<matplotlib.axes._subplots.AxesSubplot at 0x7f8e43a83f10>"
      ]
     },
     "execution_count": 19,
     "metadata": {},
     "output_type": "execute_result"
    },
    {
     "data": {
      "image/png": "[encoded data removed]",
      "text/plain": [
       "<Figure size 432x288 with 1 Axes>"
      ]
     },
     "metadata": {
      "needs_background": "light"
     },
     "output_type": "display_data"
    }
   ],
   "source": [
    "annotations.loc[valid_ids].Genre.hist()"
   ]
  },
  {
   "cell_type": "code",
   "execution_count": 22,
   "metadata": {},
   "outputs": [
    {
     "data": {
      "text/plain": [
       "train         495\n",
       "evaluation    125\n",
       "validation    124\n",
       "Name: ttv, dtype: int64"
      ]
     },
     "execution_count": 22,
     "metadata": {},
     "output_type": "execute_result"
    }
   ],
   "source": [
    "annotations[\"ttv\"] = annotations[\"Mediaeval 2013 set\"]\n",
    "annotations.loc[train_ids, \"ttv\"] = \"train\"\n",
    "annotations.loc[valid_ids, \"ttv\"] = \"validation\"\n",
    "annotations.ttv.value_counts()"
   ]
  },
  {
   "cell_type": "code",
   "execution_count": 24,
   "metadata": {},
   "outputs": [],
   "source": [
    "annotations.to_csv(\"../data/annotations/songs_info_ttv.csv\")"
   ]
  }
 ],
 "metadata": {
  "kernelspec": {
   "display_name": "Python 3",
   "language": "python",
   "name": "python3"
  },
  "language_info": {
   "codemirror_mode": {
    "name": "ipython",
    "version": 3
   },
   "file_extension": ".py",
   "mimetype": "text/x-python",
   "name": "python",
   "nbconvert_exporter": "python",
   "pygments_lexer": "ipython3",
   "version": "3.7.9"
  }
 },
 "nbformat": 4,
 "nbformat_minor": 4
}
