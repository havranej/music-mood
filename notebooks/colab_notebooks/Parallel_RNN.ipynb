{
  "nbformat": 4,
  "nbformat_minor": 0,
  "metadata": {
    "colab": {
      "name": "Parallel GRU",
      "provenance": [],
      "collapsed_sections": [
        "uIjTiFs3lwmD",
        "pFpAPSg4nvjA",
        "2kLfaywsHoRS",
        "VCDRG7IsF2Id",
        "OUeqvKp2Hdg-",
        "YdzrEOvswoVM",
        "w76NeZVVAZSc",
        "jJavZkTWaPdL",
        "Rt6y3LobYRCx",
        "ENiVdngXGHZD"
      ]
    },
    "kernelspec": {
      "name": "python3",
      "display_name": "Python 3"
    },
    "accelerator": "GPU"
  },
  "cells": [
    {
      "cell_type": "code",
      "metadata": {
        "id": "iWIVlmfFpiZu"
      },
      "source": [
        "from google.colab import drive\n",
        "import pandas as pd\n",
        "import numpy as np\n",
        "import matplotlib.pyplot as plt\n",
        "import seaborn as sns\n",
        "import torch\n",
        "\n",
        "import itertools\n",
        "\n",
        "from torch.utils.data import TensorDataset, DataLoader\n",
        "from torch import nn\n",
        "from torch.nn import functional as F\n",
        "\n",
        "from sklearn.metrics import r2_score\n",
        "\n",
        "from tqdm import tqdm\n",
        "\n",
        "%matplotlib inline"
      ],
      "execution_count": 1,
      "outputs": []
    },
    {
      "cell_type": "code",
      "metadata": {
        "colab": {
          "base_uri": "https://localhost:8080/"
        },
        "id": "FJHUg15HpmM9",
        "outputId": "482b606c-228b-45ff-ef9d-e81984680dfc"
      },
      "source": [
        "drive.mount('/content/drive')"
      ],
      "execution_count": 2,
      "outputs": [
        {
          "output_type": "stream",
          "text": [
            "Mounted at /content/drive\n"
          ],
          "name": "stdout"
        }
      ]
    },
    {
      "cell_type": "code",
      "metadata": {
        "colab": {
          "base_uri": "https://localhost:8080/"
        },
        "id": "kxXLAi0-pnpq",
        "outputId": "07372fb4-89b8-469f-fa67-e861e4b4e50c"
      },
      "source": [
        "arousal = pd.read_csv(\"/content/drive/MyDrive/UJ/ML/Project/arousal_cont_average.csv\", index_col = 0)\n",
        "valence = pd.read_csv(\"/content/drive/MyDrive/UJ/ML/Project/valence_cont_average.csv\", index_col = 0)\n",
        "\n",
        "arousal = arousal.iloc[:,:-1] # We don't take the last timestamp, because some songs are slightly shorter\n",
        "valence = valence.iloc[:,:-1]\n",
        "\n",
        "annotations = pd.read_csv(\"/content/drive/MyDrive/UJ/ML/Project/songs_info_ttv.csv\", index_col = 0)\n",
        "\n",
        "train_ids = annotations.index[annotations[\"ttv\"] == \"train\"]\n",
        "valid_ids = annotations.index[annotations[\"ttv\"] == \"validation\"]\n",
        "test_ids = annotations.index[annotations[\"ttv\"] == \"evaluation\"]\n",
        "\n",
        "print(f\"{len(train_ids)} train cases | {len(valid_ids)} validation cases | {len(test_ids)} test cases\")"
      ],
      "execution_count": 3,
      "outputs": [
        {
          "output_type": "stream",
          "text": [
            "495 train cases | 124 validation cases | 125 test cases\n"
          ],
          "name": "stdout"
        }
      ]
    },
    {
      "cell_type": "code",
      "metadata": {
        "id": "Z3By7_ZyqCRK"
      },
      "source": [
        "class BranchGRU(nn.Module):\n",
        "  def __init__(self, hidden_size, num_layers = 1, p_dropout = 0):\n",
        "    super(BranchGRU, self).__init__()\n",
        "    self.hidden_size = hidden_size\n",
        "    self.num_layers = num_layers\n",
        "\n",
        "    self.GRU = nn.GRU(68, hidden_size, num_layers = num_layers, batch_first = True, dropout = p_dropout if num_layers > 1 else 0)\n",
        "\n",
        "    self.FC = nn.Sequential(\n",
        "        nn.ReLU(),\n",
        "        nn.Dropout(p = p_dropout),\n",
        "        nn.Linear(hidden_size, 20),\n",
        "        nn.ReLU(),\n",
        "        nn.Linear(20, 5),\n",
        "        nn.ReLU(),\n",
        "        nn.Linear(5, 1),\n",
        "        nn.Tanh()\n",
        "    )\n",
        "  \n",
        "  def forward(self, x):\n",
        "    x, _ = self.GRU(x)\n",
        "    x = x[:,-1,:] # Taking the final output only\n",
        "    x = self.FC(x)\n",
        "    return x.flatten()\n",
        "\n",
        "    \n",
        "class ParallelGRU(nn.Module):\n",
        "  def __init__(self, hidden_size, num_layers = 1, p_dropout = 0):\n",
        "    super(ParallelGRU, self).__init__()\n",
        "    self.arousal_model = BranchGRU(hidden_size, num_layers, p_dropout)\n",
        "    self.valence_model = BranchGRU(hidden_size, num_layers, p_dropout)\n",
        "\n",
        "  def forward(self, x):\n",
        "    a = self.arousal_model(x)\n",
        "    v = self.valence_model(x)\n",
        "    return a, v"
      ],
      "execution_count": 51,
      "outputs": []
    },
    {
      "cell_type": "markdown",
      "metadata": {
        "id": "uIjTiFs3lwmD"
      },
      "source": [
        "# Functions definition"
      ]
    },
    {
      "cell_type": "code",
      "metadata": {
        "id": "QINpco0bl2P0"
      },
      "source": [
        "def load_for_stats(dataset, ids): # We have overlapping fragments, so we need to calculate each part of the song only once\n",
        "  X_raw = []\n",
        "  for i in ids:\n",
        "    df = pd.read_csv(f\"/content/drive/MyDrive/UJ/ML/Project/{dataset}/{i}.csv\")\n",
        "    df = df.iloc[:890,:-2] # Normalizing the length + ommiting timestamps and song IDs\n",
        "    X = df.to_numpy()\n",
        "    X_raw.append(X)\n",
        "\n",
        "  X_raw = np.stack(X_raw)\n",
        "  return torch.tensor(X_raw, dtype = torch.float)\n",
        "\n",
        "\n",
        "def get_mean_std(dataset):\n",
        "  return dataset.mean(dim = (0,1)), dataset.std(dim = (0,1))\n",
        "\n",
        "\n",
        "def load_X(dataset, ids, seq_len, step = 0.05):\n",
        "  X_raw = []\n",
        "  for i in ids:\n",
        "    song_fragments = []\n",
        "    df = pd.read_csv(f\"/content/drive/MyDrive/UJ/ML/Project/{dataset}/{i}.csv\")\n",
        "    df = df.iloc[:,:-2] # Ommiting timestamps and song IDs\n",
        "    X = df.to_numpy()\n",
        "    for ending_time in np.arange(15.0, 45.0, 0.5): # We don't want the final annotation, as some songs are slightly shorter\n",
        "      end_idx = int(ending_time / step) + 1 \n",
        "      start_idx = end_idx - seq_len\n",
        "      song_fragments.append(X[start_idx:end_idx])\n",
        "    X_raw += song_fragments\n",
        "\n",
        "  X_raw = np.stack(X_raw)\n",
        "  return torch.tensor(X_raw, dtype = torch.float)\n"
      ],
      "execution_count": 6,
      "outputs": []
    },
    {
      "cell_type": "code",
      "metadata": {
        "id": "0XzdpsysnBO4"
      },
      "source": [
        "def get_rmse(model, X, a, v):\n",
        "  a_pred, v_pred = model(X.cuda())\n",
        "  a_rmse = torch.sqrt(torch.mean((a_pred - a.cuda())**2))\n",
        "  v_rmse = torch.sqrt(torch.mean((v_pred - v.cuda())**2))\n",
        "  return a_rmse.item(), v_rmse.item()\n",
        "\n",
        "def get_r2(model, X, a, v):\n",
        "  a_pred, v_pred = model(X.cuda())\n",
        "  a_r2 = r2_score(a.numpy(), a_pred.cpu().detach().numpy())\n",
        "  v_r2 = r2_score(v.numpy(), v_pred.cpu().detach().numpy())\n",
        "  return a_r2, v_r2\n",
        "\n",
        "def print_metrics(model):\n",
        "  X_s = [train_X, valid_X, test_X]\n",
        "  a_s = [train_a, valid_a, test_a]\n",
        "  v_s = [train_v, valid_v, test_v]\n",
        "\n",
        "  rmse_values = []\n",
        "  r2_values = []\n",
        "  for X, a, v in zip(X_s, a_s, v_s):\n",
        "    rmse = get_rmse(model, X, a, v)\n",
        "    r2 = get_r2(model, X, a, v)\n",
        "    rmse_values.append(rmse)\n",
        "    r2_values.append(r2)\n",
        "  \n",
        "  a_rmse = \"\\t\".join([str(r[0]) for r in rmse_values])\n",
        "  v_rmse = \"\\t\".join([str(r[1]) for r in rmse_values])\n",
        "\n",
        "  a_r2 = \"\\t\".join([str(r[0]) for r in r2_values])\n",
        "  v_r2 = \"\\t\".join([str(r[1]) for r in r2_values])\n",
        "  \n",
        "  print(a_rmse, a_r2, v_rmse, v_r2, sep = \"\\t\")"
      ],
      "execution_count": 7,
      "outputs": []
    },
    {
      "cell_type": "code",
      "metadata": {
        "id": "a4rSt0GvnC6D"
      },
      "source": [
        "def train_model(model, train_loader, epochs, report_training_process = False, lr = 0.001, weight_decay = 0.001):\n",
        "  criterion = nn.MSELoss()\n",
        "  optimizer = torch.optim.Adam(model.parameters(), lr = lr, weight_decay = weight_decay)\n",
        "\n",
        "  model = model.cuda()\n",
        "\n",
        "  for epoch in range(epochs):  \n",
        "    model.train()\n",
        "    train_a_loss = 0.0\n",
        "    train_v_loss = 0.0\n",
        "    for i, data in enumerate(train_loader, 0):\n",
        "      x, a, v = data\n",
        "\n",
        "      x = x.cuda()\n",
        "      a = a.cuda()\n",
        "      v = v.cuda()\n",
        "\n",
        "      optimizer.zero_grad()\n",
        "\n",
        "      # forward + backward + optimize\n",
        "      a_out, v_out = model(x)\n",
        "      a_loss = criterion(a_out, a)\n",
        "      v_loss = criterion(v_out, v) \n",
        "      \n",
        "      total_loss = a_loss + v_loss\n",
        "      total_loss.backward()\n",
        "\n",
        "\n",
        "      optimizer.step()\n",
        "\n",
        "      # print statistics\n",
        "      train_a_loss += a_loss.item()\n",
        "      train_v_loss += v_loss.item()\n",
        "    \n",
        "    if report_training_process:\n",
        "      valid_a_loss = 0.0\n",
        "      valid_v_loss = 0.0\n",
        "      with torch.no_grad():\n",
        "        model.eval()\n",
        "        for data in valid_loader:\n",
        "          x, a, v = data\n",
        "\n",
        "          x = x.cuda()\n",
        "          a = a.cuda()\n",
        "          v = v.cuda()\n",
        "\n",
        "          optimizer.zero_grad()\n",
        "\n",
        "          a_out, v_out = model(x)\n",
        "          a_loss = criterion(a_out, a)\n",
        "          v_loss = criterion(v_out, v) \n",
        "\n",
        "          valid_a_loss += a_loss.item()\n",
        "          valid_v_loss += v_loss.item()\n",
        "          \n",
        "      print(f\"END OF EPOCH {epoch + 1} | Training arousal loss: {train_a_loss * BATCH_SIZE / len(train_dataset):.6f} | Validation arousal loss: {valid_a_loss * BATCH_SIZE / len(valid_dataset):.6f}\")\n",
        "      print(f\"               | Training valence loss: {train_v_loss * BATCH_SIZE / len(train_dataset):.6f} | Validation valence loss: {valid_v_loss * BATCH_SIZE / len(valid_dataset):.6f}\")\n",
        "  \n",
        "  return model\n",
        "\n",
        "def train_and_evaluate(model, train_loader, epochs, report_training_process = False, lr = 0.001, weight_decay = 0.001):\n",
        "  model = train_model(model, train_loader, epochs, report_training_process, lr, weight_decay)\n",
        "  model.eval()\n",
        "  print_metrics(model)\n",
        "\n",
        "\n",
        "def train_and_get_rmse(model, train_loader, epochs, report_training_process = False, lr = 0.001, weight_decay = 0.001):\n",
        "  model = train_model(model, train_loader, epochs, report_training_process, lr, weight_decay)\n",
        "  model.eval()\n",
        "  return get_rmse(model, valid_X, valid_a, valid_v)"
      ],
      "execution_count": 8,
      "outputs": []
    },
    {
      "cell_type": "markdown",
      "metadata": {
        "id": "pFpAPSg4nvjA"
      },
      "source": [
        "# Compute statistics for normalization"
      ]
    },
    {
      "cell_type": "code",
      "metadata": {
        "colab": {
          "base_uri": "https://localhost:8080/"
        },
        "id": "RT6wI69in3Yl",
        "outputId": "931d4be0-c781-4927-9686-bef6a78e597d"
      },
      "source": [
        "mean, std = get_mean_std(load_for_stats(\"paa_features_librosa\", train_ids))\n",
        "mean, std"
      ],
      "execution_count": 9,
      "outputs": [
        {
          "output_type": "execute_result",
          "data": {
            "text/plain": [
              "(tensor([ 9.6994e-02,  3.8720e-02,  3.1402e+00,  1.8772e-01,  2.0566e-01,\n",
              "          8.0149e-01,  8.7217e-03,  1.5696e-01, -2.4529e+01,  2.2588e+00,\n",
              "          3.1217e-02,  2.8291e-01, -6.0957e-03,  9.5511e-02, -3.1094e-02,\n",
              "          4.6710e-02, -1.9522e-02,  2.3542e-02, -1.5204e-02,  1.9254e-02,\n",
              "         -1.4686e-03,  1.8226e-02,  6.4972e-03,  4.8800e-02,  1.2898e-02,\n",
              "          2.2536e-02,  1.2507e-02,  5.4475e-02,  2.6495e-03,  6.7312e-03,\n",
              "          1.5743e-02,  3.7801e-02,  5.5788e-03,  3.3670e-02,  8.7435e-05,\n",
              "          3.7929e-05,  2.6858e-03, -1.6662e-06, -1.0416e-05, -2.7250e-05,\n",
              "          1.2390e-05,  7.5020e-06,  8.0157e-03,  1.1057e-04,  1.2809e-04,\n",
              "          6.2925e-05, -3.9527e-06,  2.1396e-05, -3.6802e-05,  4.5715e-05,\n",
              "         -4.2590e-05, -1.4666e-05,  2.6423e-05,  1.3444e-05, -4.7650e-06,\n",
              "          3.2266e-06,  3.7435e-06,  1.1364e-05,  1.3754e-08,  3.0878e-06,\n",
              "          1.6678e-06,  5.9466e-06, -3.1267e-07, -4.5458e-07,  1.9818e-06,\n",
              "         -9.4702e-06, -6.9915e-07,  1.3857e-05]),\n",
              " tensor([0.0713, 0.0431, 0.2312, 0.0765, 0.0477, 0.6339, 0.0172, 0.1506, 2.8243,\n",
              "         1.0384, 0.7486, 0.5173, 0.4523, 0.3881, 0.3685, 0.3462, 0.3473, 0.3333,\n",
              "         0.3175, 0.2899, 0.2695, 0.0315, 0.0173, 0.0619, 0.0242, 0.0323, 0.0247,\n",
              "         0.0725, 0.0086, 0.0137, 0.0228, 0.0465, 0.0132, 0.0202, 0.0436, 0.0296,\n",
              "         0.2773, 0.0471, 0.0349, 0.3646, 0.0202, 0.1094, 1.4301, 0.5400, 0.3881,\n",
              "         0.3317, 0.3003, 0.2782, 0.2679, 0.2599, 0.2548, 0.2489, 0.2428, 0.2320,\n",
              "         0.2211, 0.0224, 0.0114, 0.0447, 0.0172, 0.0224, 0.0170, 0.0526, 0.0072,\n",
              "         0.0106, 0.0173, 0.0341, 0.0096, 0.0145]))"
            ]
          },
          "metadata": {
            "tags": []
          },
          "execution_count": 9
        }
      ]
    },
    {
      "cell_type": "markdown",
      "metadata": {
        "id": "2kLfaywsHoRS"
      },
      "source": [
        "# Fine-tuning the model"
      ]
    },
    {
      "cell_type": "markdown",
      "metadata": {
        "id": "VCDRG7IsF2Id"
      },
      "source": [
        "## Sequence length optimization"
      ]
    },
    {
      "cell_type": "code",
      "metadata": {
        "colab": {
          "base_uri": "https://localhost:8080/"
        },
        "id": "1ryV4w7JF7V4",
        "outputId": "23db4c55-dede-4617-f216-f2c882691769"
      },
      "source": [
        "BATCH_SIZE = 32\n",
        "DROPOUT = 0.25\n",
        "\n",
        "for seq_len in [20, 30, 60, 100]:\n",
        "  train_X, valid_X, test_X = [(load_X(\"paa_features_librosa\", ids, seq_len = seq_len) - mean) / std for ids in (train_ids, valid_ids, test_ids)]\n",
        "  train_a, valid_a, test_a = [torch.tensor(arousal.loc[ids].to_numpy().flatten(), dtype = torch.float) for ids in (train_ids, valid_ids, test_ids)]\n",
        "  train_v, valid_v, test_v = [torch.tensor(valence.loc[ids].to_numpy().flatten(), dtype = torch.float) for ids in (train_ids, valid_ids, test_ids)]\n",
        "\n",
        "  train_dataset = TensorDataset(train_X, train_a, train_v)\n",
        "  train_loader = DataLoader(train_dataset, batch_size = BATCH_SIZE, shuffle = True)\n",
        "\n",
        "  valid_dataset = TensorDataset(valid_X, valid_a, valid_v)\n",
        "  valid_loader = DataLoader(valid_dataset, batch_size = BATCH_SIZE)\n",
        "\n",
        "  test_dataset = TensorDataset(test_X, test_a, test_v)\n",
        "  test_loader = DataLoader(test_dataset, batch_size = BATCH_SIZE)\n",
        "\n",
        "  for hidden_size in [20, 30, 40]:\n",
        "    model = ParallelGRU(hidden_size = hidden_size, num_layers = 1, p_dropout = DROPOUT)\n",
        "    print(f\"Parallel GRU, hidden size {hidden_size}, sequence length {seq_len}\\t{DROPOUT}\", end = \"\\t\")\n",
        "    train_and_evaluate(model, train_loader, epochs = 5)"
      ],
      "execution_count": 16,
      "outputs": [
        {
          "output_type": "stream",
          "text": [
            "Paralel GRU, hidden size 20, sequence length 20\t0.25\t0.17819583415985107\t0.20719961822032928\t0.21769757568836212\t0.6330644871745643\t0.5518777826937347\t0.41924004429983175\t0.1945159137248993\t0.21648535132408142\t0.21231354773044586\t0.3736439607496431\t0.2412899595354936\t0.14640877104448646\n",
            "Paralel GRU, hidden size 30, sequence length 20\t0.25\t0.17854684591293335\t0.2078123241662979\t0.21989430487155914\t0.6316175128950849\t0.549223582523688\t0.40746030260111765\t0.19034409523010254\t0.21386505663394928\t0.21733608841896057\t0.4002228715501226\t0.2595453834357242\t0.10554552952318186\n",
            "Paralel GRU, hidden size 40, sequence length 20\t0.25\t0.17891086637973785\t0.2058766633272171\t0.2169572114944458\t0.6301138122215343\t0.557581962644967\t0.42318352773934587\t0.19346795976161957\t0.2135453075170517\t0.2167607992887497\t0.38037462621975937\t0.2617578317814194\t0.1102744396182661\n",
            "Paralel GRU, hidden size 20, sequence length 30\t0.25\t0.17313168942928314\t0.2019040435552597\t0.2217087596654892\t0.6536239873537295\t0.5744911274293412\t0.39764134669871176\t0.1864662617444992\t0.21440188586711884\t0.21125134825706482\t0.4244121706933771\t0.25582347207226397\t0.15492845609664685\n",
            "Paralel GRU, hidden size 30, sequence length 30\t0.25\t0.17487260699272156\t0.206809401512146\t0.21300266683101654\t0.6466230689713093\t0.5535640225398442\t0.4440195244801727\t0.18723927438259125\t0.2137802243232727\t0.21242161095142365\t0.419630142972375\t0.26013269765370095\t0.14553963911088652\n",
            "Paralel GRU, hidden size 40, sequence length 30\t0.25\t0.1767379492521286\t0.20818863809108734\t0.22916874289512634\t0.6390440027528208\t0.5475895052350512\t0.35642338089499426\t0.18385212123394012\t0.20973652601242065\t0.21480616927146912\t0.44043781575254415\t0.28785748957190316\t0.12624826791279042\n",
            "Paralel GRU, hidden size 20, sequence length 60\t0.25\t0.15972869098186493\t0.20392490923404694\t0.21384112536907196\t0.7051775917600923\t0.5659305806384499\t0.4396338546388022\t0.1773505061864853\t0.21452897787094116\t0.22131837904453278\t0.4793139745223832\t0.25494093892303193\t0.07246665276744746\n",
            "Paralel GRU, hidden size 30, sequence length 60\t0.25\t0.15644897520542145\t0.2036513388156891\t0.21584893763065338\t0.7171604374379755\t0.5670944867681998\t0.42906152465765146\t0.17053808271884918\t0.20853373408317566\t0.22195276618003845\t0.5185471307730491\t0.296002005395711\t0.06714178523258929\n",
            "Paralel GRU, hidden size 40, sequence length 60\t0.25\t0.1585724651813507\t0.20247642695903778\t0.22149722278118134\t0.7094304076783056\t0.5720751391840125\t0.3987901819566353\t0.17033010721206665\t0.21098284423351288\t0.21543332934379578\t0.519720753550695\t0.27936884652932026\t0.12113874276953007\n",
            "Paralel GRU, hidden size 20, sequence length 100\t0.25\t0.15706902742385864\t0.21050100028514862\t0.21541139483451843\t0.7149140750181802\t0.5374838257327994\t0.4313739097722239\t0.17151907086372375\t0.21562160551548004\t0.21738772094249725\t0.5129922572543171\t0.24733222500234064\t0.10512050624856029\n",
            "Paralel GRU, hidden size 30, sequence length 100\t0.25\t0.14822690188884735\t0.2028229534626007\t0.22026240825653076\t0.7461082016816855\t0.5706091158653164\t0.4054748557316613\t0.17423637211322784\t0.21153753995895386\t0.22646234929561615\t0.4974391913243529\t0.2755746065419965\t0.02884941563941079\n",
            "Paralel GRU, hidden size 40, sequence length 100\t0.25\t0.16130895912647247\t0.20041407644748688\t0.21435116231441498\t0.6993150777880057\t0.5807480418861213\t0.43695756459004387\t0.18308450281620026\t0.21387863159179688\t0.22173461318016052\t0.44510070932124324\t0.2594514057063606\t0.06897454621886623\n"
          ],
          "name": "stdout"
        }
      ]
    },
    {
      "cell_type": "markdown",
      "metadata": {
        "id": "OUeqvKp2Hdg-"
      },
      "source": [
        "## Batch size optimization\n",
        "\n",
        "It doesn't change much, so let's stick with 32"
      ]
    },
    {
      "cell_type": "code",
      "metadata": {
        "colab": {
          "base_uri": "https://localhost:8080/"
        },
        "id": "eFLI1Lf4Hfys",
        "outputId": "128d384c-da45-46c9-9f59-3796421797fe"
      },
      "source": [
        "SEQ_LEN = 60\n",
        "HIDDEN_SIZE = 30\n",
        "DROPOUT = 0.25\n",
        "\n",
        "train_X, valid_X, test_X = [(load_X(\"paa_features_librosa\", ids, seq_len = SEQ_LEN) - mean) / std for ids in (train_ids, valid_ids, test_ids)]\n",
        "train_a, valid_a, test_a = [torch.tensor(arousal.loc[ids].to_numpy().flatten(), dtype = torch.float) for ids in (train_ids, valid_ids, test_ids)]\n",
        "train_v, valid_v, test_v = [torch.tensor(valence.loc[ids].to_numpy().flatten(), dtype = torch.float) for ids in (train_ids, valid_ids, test_ids)]\n",
        "\n",
        "results = []\n",
        "\n",
        "\n",
        "for batch_size in [16, 32, 64]:\n",
        "  train_dataset = TensorDataset(train_X, train_a, train_v)\n",
        "  train_loader = DataLoader(train_dataset, batch_size = batch_size, shuffle = True)\n",
        "\n",
        "  valid_dataset = TensorDataset(valid_X, valid_a, valid_v)\n",
        "  valid_loader = DataLoader(valid_dataset, batch_size = batch_size)\n",
        "\n",
        "  test_dataset = TensorDataset(test_X, test_a, test_v)\n",
        "  test_loader = DataLoader(test_dataset, batch_size = batch_size)\n",
        "\n",
        "  for _ in tqdm(range(5)):\n",
        "    model = ParallelGRU(hidden_size = HIDDEN_SIZE, num_layers = 1, p_dropout = DROPOUT)\n",
        "    a_rmse, v_rmse = train_and_get_rmse(model, train_loader, epochs = 5)\n",
        "    results.append({\"Metric\": \"Arousal RMSE\", \"Value\": a_rmse, \"Batch_size\": batch_size})\n",
        "    results.append({\"Metric\": \"Valence RMSE\", \"Value\": v_rmse, \"Batch_size\": batch_size})\n",
        "    results.append({\"Metric\": \"Mean RMSE\", \"Value\": (a_rmse + v_rmse) / 2, \"Batch_size\": batch_size})\n"
      ],
      "execution_count": 17,
      "outputs": [
        {
          "output_type": "stream",
          "text": [
            "100%|██████████| 5/5 [07:45<00:00, 93.09s/it]\n",
            "100%|██████████| 5/5 [04:08<00:00, 49.63s/it]\n",
            "100%|██████████| 5/5 [02:12<00:00, 26.57s/it]\n"
          ],
          "name": "stderr"
        }
      ]
    },
    {
      "cell_type": "code",
      "metadata": {
        "colab": {
          "base_uri": "https://localhost:8080/",
          "height": 401
        },
        "id": "PYXSVkMOdd_l",
        "outputId": "8341197d-a719-4fc6-aaa6-baa32478ddc6"
      },
      "source": [
        "batch_size_results = pd.DataFrame(results)\n",
        "sns.catplot(data = batch_size_results, x = \"Batch_size\", y = \"Value\", col = \"Metric\", kind = \"box\")"
      ],
      "execution_count": 18,
      "outputs": [
        {
          "output_type": "execute_result",
          "data": {
            "text/plain": [
              "<seaborn.axisgrid.FacetGrid at 0x7ff873714c18>"
            ]
          },
          "metadata": {
            "tags": []
          },
          "execution_count": 18
        },
        {
          "output_type": "display_data",
          "data": {
            "image/png": "[encoded data removed]",
            "text/plain": [
              "<Figure size 1080x360 with 3 Axes>"
            ]
          },
          "metadata": {
            "tags": [],
            "needs_background": "light"
          }
        }
      ]
    },
    {
      "cell_type": "markdown",
      "metadata": {
        "id": "YdzrEOvswoVM"
      },
      "source": [
        "# Final evaluation of single models"
      ]
    },
    {
      "cell_type": "code",
      "metadata": {
        "id": "ubETUJsFw5TF"
      },
      "source": [
        "SEQ_LEN = 60\n",
        "HIDDEN_SIZE = 30\n",
        "DROPOUT = 0.25\n",
        "BATCH_SIZE = 32\n",
        "\n",
        "train_X, test_X = [(load_X(\"paa_features_librosa\", ids, seq_len = SEQ_LEN) - mean) / std for ids in (list(train_ids) + list(valid_ids), test_ids)]\n",
        "train_a, test_a = [torch.tensor(arousal.loc[ids].to_numpy().flatten(), dtype = torch.float) for ids in (list(train_ids) + list(valid_ids), test_ids)]\n",
        "train_v, test_v = [torch.tensor(valence.loc[ids].to_numpy().flatten(), dtype = torch.float) for ids in (list(train_ids) + list(valid_ids), test_ids)]\n",
        "\n",
        "train_dataset = TensorDataset(train_X, train_a, train_v)\n",
        "train_loader = DataLoader(train_dataset, batch_size = BATCH_SIZE, shuffle = True)\n",
        "\n",
        "test_dataset = TensorDataset(test_X, test_a, test_v)\n",
        "test_loader = DataLoader(test_dataset, batch_size = BATCH_SIZE)"
      ],
      "execution_count": 19,
      "outputs": []
    },
    {
      "cell_type": "code",
      "metadata": {
        "colab": {
          "base_uri": "https://localhost:8080/"
        },
        "id": "KciOpyRMw8BQ",
        "outputId": "49791bbe-d845-462f-a171-c2ec583ee7b8"
      },
      "source": [
        "final_rmse_values = []\n",
        "\n",
        "for _ in tqdm(range(10)):\n",
        "  model = ParallelGRU(hidden_size = HIDDEN_SIZE, num_layers = 1, p_dropout = DROPOUT)\n",
        "  model = train_model(model, train_loader, epochs = 5)\n",
        "  model.eval()\n",
        "  \n",
        "  train_a_rmse, train_v_rmse = get_rmse(model, train_X, train_a, train_v)\n",
        "  valid_a_rmse, valid_v_rmse = get_rmse(model, valid_X, valid_a, valid_v)\n",
        "  test_a_rmse, test_v_rmse = get_rmse(model, test_X, test_a, test_v)\n",
        "\n",
        "  final_rmse_values.append({\"Arousal_RMSE\": train_a_rmse, \"Valence_RMSE\": train_v_rmse, \"Dataset\": \"Train\"})\n",
        "  # final_rmse_values.append({\"Arousal_RMSE\": valid_a_rmse, \"Valence_RMSE\": valid_v_rmse, \"Dataset\": \"Valid\"})\n",
        "  final_rmse_values.append({\"Arousal_RMSE\": test_a_rmse, \"Valence_RMSE\": test_v_rmse, \"Dataset\": \"Test\"})"
      ],
      "execution_count": 20,
      "outputs": [
        {
          "output_type": "stream",
          "text": [
            "100%|██████████| 10/10 [10:19<00:00, 61.98s/it]\n"
          ],
          "name": "stderr"
        }
      ]
    },
    {
      "cell_type": "code",
      "metadata": {
        "id": "TafD_6K10_j0"
      },
      "source": [
        "final_rmse_df = pd.DataFrame(final_rmse_values)"
      ],
      "execution_count": 21,
      "outputs": []
    },
    {
      "cell_type": "code",
      "metadata": {
        "colab": {
          "base_uri": "https://localhost:8080/",
          "height": 400
        },
        "id": "2Sn7QCJV3TlN",
        "outputId": "8ee75cd8-18db-4567-e0f5-64f83d2a581c"
      },
      "source": [
        "sns.catplot(data = final_rmse_df, x = \"Dataset\", y = \"Arousal_RMSE\", kind = \"box\")\n",
        "plt.hlines(0.2211, xmin = -0.7, xmax = 1.7, colors = 'g', linestyles = \"--\")\n",
        "plt.hlines((train_a.mean() - test_a).pow(2).mean().sqrt(), xmin = -0.7, xmax = 1.7, colors = 'r', linestyles = \"--\")"
      ],
      "execution_count": 22,
      "outputs": [
        {
          "output_type": "execute_result",
          "data": {
            "text/plain": [
              "<matplotlib.collections.LineCollection at 0x7ff872e25b38>"
            ]
          },
          "metadata": {
            "tags": []
          },
          "execution_count": 22
        },
        {
          "output_type": "display_data",
          "data": {
            "image/png": "[encoded data removed]",
            "text/plain": [
              "<Figure size 360x360 with 1 Axes>"
            ]
          },
          "metadata": {
            "tags": [],
            "needs_background": "light"
          }
        }
      ]
    },
    {
      "cell_type": "code",
      "metadata": {
        "colab": {
          "base_uri": "https://localhost:8080/",
          "height": 400
        },
        "id": "pDNEvi-z40hk",
        "outputId": "36c9a2ba-2537-4b4c-d783-4ab4d07141e7"
      },
      "source": [
        "sns.catplot(data = final_rmse_df, x = \"Dataset\", y = \"Valence_RMSE\", kind = \"box\")\n",
        "plt.hlines(0.2153, xmin = -0.7, xmax = 1.7, colors = 'g', linestyles = \"--\")\n",
        "plt.hlines((train_v.mean() - test_v).pow(2).mean().sqrt(), xmin = -0.7, xmax = 1.7, colors = 'r', linestyles = \"--\")"
      ],
      "execution_count": 23,
      "outputs": [
        {
          "output_type": "execute_result",
          "data": {
            "text/plain": [
              "<matplotlib.collections.LineCollection at 0x7ff871fa3898>"
            ]
          },
          "metadata": {
            "tags": []
          },
          "execution_count": 23
        },
        {
          "output_type": "display_data",
          "data": {
            "image/png": "[encoded data removed]",
            "text/plain": [
              "<Figure size 360x360 with 1 Axes>"
            ]
          },
          "metadata": {
            "tags": [],
            "needs_background": "light"
          }
        }
      ]
    },
    {
      "cell_type": "markdown",
      "metadata": {
        "id": "w76NeZVVAZSc"
      },
      "source": [
        "# Ensembles\n"
      ]
    },
    {
      "cell_type": "code",
      "metadata": {
        "id": "EOtcD4BnAo6g"
      },
      "source": [
        "SEQ_LEN = 60\n",
        "HIDDEN_SIZE = 30\n",
        "DROPOUT = 0.25\n",
        "BATCH_SIZE = 32\n",
        "\n",
        "train_X, valid_X, test_X = [(load_X(\"paa_features_librosa\", ids, seq_len = SEQ_LEN) - mean) / std for ids in (train_ids, valid_ids, test_ids)]\n",
        "train_a, valid_a, test_a = [torch.tensor(arousal.loc[ids].to_numpy().flatten(), dtype = torch.float) for ids in (train_ids, valid_ids, test_ids)]\n",
        "train_v, valid_v, test_v = [torch.tensor(valence.loc[ids].to_numpy().flatten(), dtype = torch.float) for ids in (train_ids, valid_ids, test_ids)]\n",
        "\n",
        "train_dataset = TensorDataset(train_X, train_a, train_v)\n",
        "train_loader = DataLoader(train_dataset, batch_size = BATCH_SIZE, shuffle = True)\n",
        "\n",
        "valid_dataset = TensorDataset(valid_X, valid_a, valid_v)\n",
        "valid_loader = DataLoader(valid_dataset, batch_size = BATCH_SIZE)\n",
        "\n",
        "test_dataset = TensorDataset(test_X, test_a, test_v)\n",
        "test_loader = DataLoader(test_dataset, batch_size = BATCH_SIZE)"
      ],
      "execution_count": 24,
      "outputs": []
    },
    {
      "cell_type": "code",
      "metadata": {
        "id": "7ES1L0eaKpQ3"
      },
      "source": [
        "class Ensemble():\n",
        "  def __init__(self, models):\n",
        "    self.models = models\n",
        "  \n",
        "  def __call__(self, x):\n",
        "    a_preds, v_preds = [], []\n",
        "    for model in models:\n",
        "      model.eval()\n",
        "      a, v = model(x)\n",
        "      a_preds.append(a)\n",
        "      v_preds.append(v)\n",
        "    a_prediction = torch.stack(a_preds).mean(dim = 0)\n",
        "    v_prediction = torch.stack(v_preds).mean(dim = 0)\n",
        "    return a_prediction, v_prediction"
      ],
      "execution_count": 25,
      "outputs": []
    },
    {
      "cell_type": "code",
      "metadata": {
        "colab": {
          "base_uri": "https://localhost:8080/"
        },
        "id": "03aJtTItK_fp",
        "outputId": "40cee7e2-b185-40ee-e5f5-88660b1852f3"
      },
      "source": [
        "EPOCHS = [1, 3, 5]\n",
        "LEARNERS = [3, 5, 10]\n",
        "\n",
        "for epochs, learners in itertools.product(EPOCHS, LEARNERS):\n",
        "  models = [train_model(ParallelGRU(hidden_size = HIDDEN_SIZE, num_layers = 1, p_dropout = DROPOUT), train_loader, epochs = epochs) for _ in range(learners)]\n",
        "  e = Ensemble(models)\n",
        "  print(f\"{learners} learners, {epochs} epochs\", end = \"\\t\")\n",
        "  print_metrics(e)\n",
        "  # rmse = get_rmse(e, valid_X, valid_a, valid_v)\n",
        "  # print(f\"{learners} learners after {epochs} epochs | Arousal RMSE {rmse[0]:.6f} | Valence RMSE {rmse[1]:.6f}\")"
      ],
      "execution_count": 27,
      "outputs": [
        {
          "output_type": "stream",
          "text": [
            "3 learners, 1 epochs\t0.17965269088745117\t0.2039528787136078\t0.21993954479694366\t0.6270401232119072\t0.5658115687437713\t0.4072164755050214\t0.2097884714603424\t0.21696199476718903\t0.2230709344148636\t0.2714249672997142\t0.23794532650259403\t0.05771868282218817\n",
            "5 learners, 1 epochs\t0.17955084145069122\t0.2020711749792099\t0.21607597172260284\t0.6274629169217424\t0.573786355612151\t0.42785980709323457\t0.20919282734394073\t0.21787819266319275\t0.21905173361301422\t0.27555638784893255\t0.23149573564385606\t0.09136816731915587\n",
            "10 learners, 1 epochs\t0.18902486562728882\t0.20908118784427643\t0.21720187366008759\t0.5871117715626835\t0.5437020314435086\t0.42188185850527116\t0.2094237059354782\t0.21943603456020355\t0.21735194325447083\t0.2739564510507162\t0.2204667717174903\t0.10541503646244343\n",
            "3 learners, 3 epochs\t0.16258376836776733\t0.20119795203208923\t0.215333953499794\t0.6945437591284297\t0.577462055683674\t0.43178262244907584\t0.17983819544315338\t0.2085610181093216\t0.21473906934261322\t0.46460426211118744\t0.29581779843251943\t0.12679409647407358\n",
            "5 learners, 3 epochs\t0.16347098350524902\t0.2025233954191208\t0.21602831780910492\t0.69120093768581\t0.5718765844947715\t0.4281121622142213\t0.17481811344623566\t0.20409655570983887\t0.21167027950286865\t0.49407760399974876\t0.3256425441925266\t0.15157333783564497\n",
            "10 learners, 3 epochs\t0.16060136258602142\t0.19843675196170807\t0.21324248611927032\t0.7019472580414057\t0.5889801482879435\t0.4427669106172427\t0.17610430717468262\t0.2079191654920578\t0.20771920680999756\t0.4866057580646105\t0.30014539857123657\t0.18295149849699643\n",
            "3 learners, 5 epochs\t0.15131689608097076\t0.198555126786232\t0.20584721863269806\t0.7354123889176738\t0.5884895871663591\t0.4807464267229732\t0.16394783556461334\t0.2065848410129547\t0.20918810367584229\t0.5550385406081131\t0.30909918195575725\t0.17135499060433923\n",
            "5 learners, 5 epochs\t0.15102723240852356\t0.1965872198343277\t0.21176719665527344\t0.7364244249349517\t0.5966062427009079\t0.4504504407729558\t0.16718930006027222\t0.2057645171880722\t0.20600730180740356\t0.5372696393137176\t0.31457527317294576\t0.19636327798846198\n",
            "10 learners, 5 epochs\t0.14970538020133972\t0.19630704820156097\t0.20918358862400055\t0.7410180614180362\t0.5977552842088394\t0.46377796369624325\t0.16492441296577454\t0.2082098424434662\t0.20773392915725708\t0.5497217873394661\t0.2981872129158858\t0.18283566232101534\n"
          ],
          "name": "stdout"
        }
      ]
    },
    {
      "cell_type": "markdown",
      "metadata": {
        "id": "jJavZkTWaPdL"
      },
      "source": [
        "# Arousal and valence correlation\n",
        "\n",
        "Parallel model shows lower correlation between arousal and valence than forked – this is desirable"
      ]
    },
    {
      "cell_type": "code",
      "metadata": {
        "id": "7jdudnCravIP"
      },
      "source": [
        "SEQ_LEN = 60\n",
        "HIDDEN_SIZE = 30\n",
        "DROPOUT = 0.25\n",
        "BATCH_SIZE = 32\n",
        "\n",
        "train_X, test_X = [(load_X(\"paa_features_librosa\", ids, seq_len = SEQ_LEN) - mean) / std for ids in (list(train_ids) + list(valid_ids), test_ids)]\n",
        "train_a, test_a = [torch.tensor(arousal.loc[ids].to_numpy().flatten(), dtype = torch.float) for ids in (list(train_ids) + list(valid_ids), test_ids)]\n",
        "train_v, test_v = [torch.tensor(valence.loc[ids].to_numpy().flatten(), dtype = torch.float) for ids in (list(train_ids) + list(valid_ids), test_ids)]\n",
        "\n",
        "train_dataset = TensorDataset(train_X, train_a, train_v)\n",
        "train_loader = DataLoader(train_dataset, batch_size = BATCH_SIZE, shuffle = True)\n",
        "\n",
        "test_dataset = TensorDataset(test_X, test_a, test_v)\n",
        "test_loader = DataLoader(test_dataset, batch_size = BATCH_SIZE)"
      ],
      "execution_count": 28,
      "outputs": []
    },
    {
      "cell_type": "code",
      "metadata": {
        "id": "6eEpoPakk5Ks"
      },
      "source": [
        "real_df = pd.concat([\n",
        "  pd.DataFrame({\"Arousal\": train_a, \"Valence\": train_v, \"Method\": \"Truth\", \"Dataset\": \"Train\"}),\n",
        "  pd.DataFrame({\"Arousal\": test_a, \"Valence\": test_v, \"Method\": \"Truth\", \"Dataset\": \"Test\"}),\n",
        "])"
      ],
      "execution_count": 29,
      "outputs": []
    },
    {
      "cell_type": "code",
      "metadata": {
        "colab": {
          "base_uri": "https://localhost:8080/"
        },
        "id": "wvQK4d80awaq",
        "outputId": "8bfd2277-b35f-4123-9232-cab610511f8c"
      },
      "source": [
        "models = [train_model(ParallelGRU(hidden_size = HIDDEN_SIZE, num_layers = 1, p_dropout = DROPOUT), train_loader, epochs = 5) for _ in tqdm(range(5))]\n",
        "e = Ensemble(models)\n",
        "\n",
        "pred_train_a, pred_train_v = e(train_X.cuda())\n",
        "pred_test_a, pred_test_v = e(test_X.cuda())\n",
        "\n",
        "parallel_df = pd.concat([\n",
        "  pd.DataFrame({\"Arousal\": pred_train_a.cpu().detach(), \"Valence\": pred_train_v.cpu().detach(), \"Method\": \"Parallel\", \"Dataset\": \"Train\"}),\n",
        "  pd.DataFrame({\"Arousal\": pred_test_a.cpu().detach(), \"Valence\": pred_test_v.cpu().detach(), \"Method\": \"Parallel\", \"Dataset\": \"Test\"}),\n",
        "])"
      ],
      "execution_count": 31,
      "outputs": [
        {
          "output_type": "stream",
          "text": [
            "\n",
            "  0%|          | 0/5 [00:00<?, ?it/s]\u001b[A\n",
            " 20%|██        | 1/5 [01:01<04:04, 61.12s/it]\u001b[A\n",
            " 40%|████      | 2/5 [02:00<03:02, 60.73s/it]\u001b[A\n",
            " 60%|██████    | 3/5 [03:00<02:00, 60.24s/it]\u001b[A\n",
            " 80%|████████  | 4/5 [03:59<00:59, 59.90s/it]\u001b[A\n",
            "100%|██████████| 5/5 [04:58<00:00, 59.76s/it]\n"
          ],
          "name": "stderr"
        }
      ]
    },
    {
      "cell_type": "code",
      "metadata": {
        "colab": {
          "base_uri": "https://localhost:8080/",
          "height": 424
        },
        "id": "c8os0hOKa-6l",
        "outputId": "e23d154f-9ad8-4dcf-f8cd-3424807bbedf"
      },
      "source": [
        "pred_2d_df = pd.concat([real_df, parallel_df])\n",
        "pred_2d_df"
      ],
      "execution_count": 32,
      "outputs": [
        {
          "output_type": "execute_result",
          "data": {
            "text/html": [
              "<div>\n",
              "<style scoped>\n",
              "    .dataframe tbody tr th:only-of-type {\n",
              "        vertical-align: middle;\n",
              "    }\n",
              "\n",
              "    .dataframe tbody tr th {\n",
              "        vertical-align: top;\n",
              "    }\n",
              "\n",
              "    .dataframe thead th {\n",
              "        text-align: right;\n",
              "    }\n",
              "</style>\n",
              "<table border=\"1\" class=\"dataframe\">\n",
              "  <thead>\n",
              "    <tr style=\"text-align: right;\">\n",
              "      <th></th>\n",
              "      <th>Arousal</th>\n",
              "      <th>Valence</th>\n",
              "      <th>Method</th>\n",
              "      <th>Dataset</th>\n",
              "    </tr>\n",
              "  </thead>\n",
              "  <tbody>\n",
              "    <tr>\n",
              "      <th>0</th>\n",
              "      <td>-0.109388</td>\n",
              "      <td>-0.073341</td>\n",
              "      <td>Truth</td>\n",
              "      <td>Train</td>\n",
              "    </tr>\n",
              "    <tr>\n",
              "      <th>1</th>\n",
              "      <td>-0.114943</td>\n",
              "      <td>-0.074662</td>\n",
              "      <td>Truth</td>\n",
              "      <td>Train</td>\n",
              "    </tr>\n",
              "    <tr>\n",
              "      <th>2</th>\n",
              "      <td>-0.116414</td>\n",
              "      <td>-0.074078</td>\n",
              "      <td>Truth</td>\n",
              "      <td>Train</td>\n",
              "    </tr>\n",
              "    <tr>\n",
              "      <th>3</th>\n",
              "      <td>-0.118614</td>\n",
              "      <td>-0.078155</td>\n",
              "      <td>Truth</td>\n",
              "      <td>Train</td>\n",
              "    </tr>\n",
              "    <tr>\n",
              "      <th>4</th>\n",
              "      <td>-0.126458</td>\n",
              "      <td>-0.081589</td>\n",
              "      <td>Truth</td>\n",
              "      <td>Train</td>\n",
              "    </tr>\n",
              "    <tr>\n",
              "      <th>...</th>\n",
              "      <td>...</td>\n",
              "      <td>...</td>\n",
              "      <td>...</td>\n",
              "      <td>...</td>\n",
              "    </tr>\n",
              "    <tr>\n",
              "      <th>7495</th>\n",
              "      <td>0.348397</td>\n",
              "      <td>0.242859</td>\n",
              "      <td>Paralel</td>\n",
              "      <td>Test</td>\n",
              "    </tr>\n",
              "    <tr>\n",
              "      <th>7496</th>\n",
              "      <td>0.336263</td>\n",
              "      <td>0.240034</td>\n",
              "      <td>Paralel</td>\n",
              "      <td>Test</td>\n",
              "    </tr>\n",
              "    <tr>\n",
              "      <th>7497</th>\n",
              "      <td>0.356895</td>\n",
              "      <td>0.203580</td>\n",
              "      <td>Paralel</td>\n",
              "      <td>Test</td>\n",
              "    </tr>\n",
              "    <tr>\n",
              "      <th>7498</th>\n",
              "      <td>0.348744</td>\n",
              "      <td>0.213638</td>\n",
              "      <td>Paralel</td>\n",
              "      <td>Test</td>\n",
              "    </tr>\n",
              "    <tr>\n",
              "      <th>7499</th>\n",
              "      <td>0.368817</td>\n",
              "      <td>0.226249</td>\n",
              "      <td>Paralel</td>\n",
              "      <td>Test</td>\n",
              "    </tr>\n",
              "  </tbody>\n",
              "</table>\n",
              "<p>89280 rows × 4 columns</p>\n",
              "</div>"
            ],
            "text/plain": [
              "       Arousal   Valence   Method Dataset\n",
              "0    -0.109388 -0.073341    Truth   Train\n",
              "1    -0.114943 -0.074662    Truth   Train\n",
              "2    -0.116414 -0.074078    Truth   Train\n",
              "3    -0.118614 -0.078155    Truth   Train\n",
              "4    -0.126458 -0.081589    Truth   Train\n",
              "...        ...       ...      ...     ...\n",
              "7495  0.348397  0.242859  Paralel    Test\n",
              "7496  0.336263  0.240034  Paralel    Test\n",
              "7497  0.356895  0.203580  Paralel    Test\n",
              "7498  0.348744  0.213638  Paralel    Test\n",
              "7499  0.368817  0.226249  Paralel    Test\n",
              "\n",
              "[89280 rows x 4 columns]"
            ]
          },
          "metadata": {
            "tags": []
          },
          "execution_count": 32
        }
      ]
    },
    {
      "cell_type": "code",
      "metadata": {
        "colab": {
          "base_uri": "https://localhost:8080/",
          "height": 369
        },
        "id": "1YFoaMo4a-6v",
        "outputId": "c12283bb-8d31-4083-ee1f-1099d8287403"
      },
      "source": [
        "sns.displot(data = pred_2d_df, x = \"Arousal\", y = \"Valence\", hue = \"Dataset\", col = \"Method\", kind = \"kde\")\n",
        "plt.show()"
      ],
      "execution_count": 33,
      "outputs": [
        {
          "output_type": "display_data",
          "data": {
            "image/png": "[encoded data removed]",
            "text/plain": [
              "<Figure size 780x360 with 2 Axes>"
            ]
          },
          "metadata": {
            "tags": [],
            "needs_background": "light"
          }
        }
      ]
    },
    {
      "cell_type": "code",
      "metadata": {
        "colab": {
          "base_uri": "https://localhost:8080/"
        },
        "id": "4xx1gvNwh_rA",
        "outputId": "d3840a7a-2819-4d18-fec0-aa2410d9b2b0"
      },
      "source": [
        "from scipy.stats import pearsonr \n",
        "\n",
        "for method in pred_2d_df.Method.unique():\n",
        "  selected_df = pred_2d_df[pred_2d_df.Method == method]\n",
        "  print(method, pearsonr(selected_df.Arousal, selected_df.Valence)[0])\n"
      ],
      "execution_count": 34,
      "outputs": [
        {
          "output_type": "stream",
          "text": [
            "Truth 0.5649186768954358\n",
            "Paralel 0.7361634067771423\n"
          ],
          "name": "stdout"
        }
      ]
    },
    {
      "cell_type": "markdown",
      "metadata": {
        "id": "Rt6y3LobYRCx"
      },
      "source": [
        "# Ensemble evaluation"
      ]
    },
    {
      "cell_type": "code",
      "metadata": {
        "id": "5igwHl-5YS28"
      },
      "source": [
        "SEQ_LEN = 60\n",
        "HIDDEN_SIZE = 30\n",
        "DROPOUT = 0.25\n",
        "BATCH_SIZE = 32\n",
        "\n",
        "train_X, test_X = [(load_X(\"paa_features_librosa\", ids, seq_len = SEQ_LEN) - mean) / std for ids in (list(train_ids) + list(valid_ids), test_ids)]\n",
        "train_a, test_a = [torch.tensor(arousal.loc[ids].to_numpy().flatten(), dtype = torch.float) for ids in (list(train_ids) + list(valid_ids), test_ids)]\n",
        "train_v, test_v = [torch.tensor(valence.loc[ids].to_numpy().flatten(), dtype = torch.float) for ids in (list(train_ids) + list(valid_ids), test_ids)]\n",
        "\n",
        "train_dataset = TensorDataset(train_X, train_a, train_v)\n",
        "train_loader = DataLoader(train_dataset, batch_size = BATCH_SIZE, shuffle = True)\n",
        "\n",
        "test_dataset = TensorDataset(test_X, test_a, test_v)\n",
        "test_loader = DataLoader(test_dataset, batch_size = BATCH_SIZE)"
      ],
      "execution_count": 35,
      "outputs": []
    },
    {
      "cell_type": "code",
      "metadata": {
        "colab": {
          "base_uri": "https://localhost:8080/"
        },
        "id": "OJKXC2MyYXHc",
        "outputId": "9a11d5dc-cbf9-4387-ae2e-d64d6732f1e8"
      },
      "source": [
        "ensemble_rmse_values = []\n",
        "\n",
        "for _ in tqdm(range(5)):\n",
        "  models = [train_model(ParallelGRU(hidden_size = HIDDEN_SIZE, num_layers = 1, p_dropout = DROPOUT), train_loader, epochs = 5) for _ in range(5)]\n",
        "  e = Ensemble(models)\n",
        "  \n",
        "  train_a_rmse, train_v_rmse = get_rmse(e, train_X, train_a, train_v)\n",
        "  valid_a_rmse, valid_v_rmse = get_rmse(e, valid_X, valid_a, valid_v)\n",
        "  test_a_rmse, test_v_rmse = get_rmse(e, test_X, test_a, test_v)\n",
        "\n",
        "  ensemble_rmse_values.append({\"Arousal_RMSE\": train_a_rmse, \"Valence_RMSE\": train_v_rmse, \"Dataset\": \"Train\"})\n",
        "  ensemble_rmse_values.append({\"Arousal_RMSE\": test_a_rmse, \"Valence_RMSE\": test_v_rmse, \"Dataset\": \"Test\"})"
      ],
      "execution_count": 38,
      "outputs": [
        {
          "output_type": "stream",
          "text": [
            "\n",
            "\n",
            "  0%|          | 0/5 [00:00<?, ?it/s]\u001b[A\u001b[A\n",
            "\n",
            " 20%|██        | 1/5 [04:55<19:41, 295.49s/it]\u001b[A\u001b[A\n",
            "\n",
            " 40%|████      | 2/5 [09:50<14:45, 295.31s/it]\u001b[A\u001b[A\n",
            "\n",
            " 60%|██████    | 3/5 [14:45<09:50, 295.30s/it]\u001b[A\u001b[A\n",
            "\n",
            " 80%|████████  | 4/5 [19:40<04:55, 295.02s/it]\u001b[A\u001b[A\n",
            "\n",
            "100%|██████████| 5/5 [24:33<00:00, 294.71s/it]\n"
          ],
          "name": "stderr"
        }
      ]
    },
    {
      "cell_type": "code",
      "metadata": {
        "id": "dleuNC2sf6fx"
      },
      "source": [
        "ensemble_rmse_df = pd.DataFrame(ensemble_rmse_values)"
      ],
      "execution_count": 39,
      "outputs": []
    },
    {
      "cell_type": "code",
      "metadata": {
        "id": "2vPkYmEaf9wx"
      },
      "source": [
        "final_rmse_df[\"Model\"] = \"Single (10)\"\n",
        "ensemble_rmse_df[\"Model\"] = \"Ensemble (5)\"\n",
        "\n",
        "rmse_df = pd.concat([final_rmse_df, ensemble_rmse_df])"
      ],
      "execution_count": 44,
      "outputs": []
    },
    {
      "cell_type": "code",
      "metadata": {
        "colab": {
          "base_uri": "https://localhost:8080/",
          "height": 400
        },
        "id": "BD0BtsFdg8MF",
        "outputId": "fa2b1dfd-0131-44dc-d591-8a4f96b810b5"
      },
      "source": [
        "sns.catplot(data = rmse_df, x = \"Dataset\", y = \"Arousal_RMSE\", hue = \"Model\", kind = \"box\")\n",
        "plt.hlines(0.2211, xmin = -0.7, xmax = 1.7, colors = 'g', linestyles = \"--\")\n",
        "plt.hlines((train_a.mean() - test_a).pow(2).mean().sqrt(), xmin = -0.7, xmax = 1.7, colors = 'r', linestyles = \"--\")"
      ],
      "execution_count": 45,
      "outputs": [
        {
          "output_type": "execute_result",
          "data": {
            "text/plain": [
              "<matplotlib.collections.LineCollection at 0x7ff87168a668>"
            ]
          },
          "metadata": {
            "tags": []
          },
          "execution_count": 45
        },
        {
          "output_type": "display_data",
          "data": {
            "image/png": "[encoded data removed]",
            "text/plain": [
              "<Figure size 462.125x360 with 1 Axes>"
            ]
          },
          "metadata": {
            "tags": [],
            "needs_background": "light"
          }
        }
      ]
    },
    {
      "cell_type": "code",
      "metadata": {
        "colab": {
          "base_uri": "https://localhost:8080/",
          "height": 400
        },
        "id": "0JwztZuehM1W",
        "outputId": "2f503608-166e-4289-fceb-6de0f0bfb08b"
      },
      "source": [
        "sns.catplot(data = rmse_df, x = \"Dataset\", y = \"Valence_RMSE\", hue = \"Model\", kind = \"box\")\n",
        "plt.hlines(0.2153, xmin = -0.7, xmax = 1.7, colors = 'g', linestyles = \"--\")\n",
        "plt.hlines((train_v.mean() - test_v).pow(2).mean().sqrt(), xmin = -0.7, xmax = 1.7, colors = 'r', linestyles = \"--\")"
      ],
      "execution_count": 46,
      "outputs": [
        {
          "output_type": "execute_result",
          "data": {
            "text/plain": [
              "<matplotlib.collections.LineCollection at 0x7ff87168a0b8>"
            ]
          },
          "metadata": {
            "tags": []
          },
          "execution_count": 46
        },
        {
          "output_type": "display_data",
          "data": {
            "image/png": "[encoded data removed]",
            "text/plain": [
              "<Figure size 462.125x360 with 1 Axes>"
            ]
          },
          "metadata": {
            "tags": [],
            "needs_background": "light"
          }
        }
      ]
    },
    {
      "cell_type": "code",
      "metadata": {
        "colab": {
          "base_uri": "https://localhost:8080/",
          "height": 238
        },
        "id": "ZqrZKVNYhvp4",
        "outputId": "01376690-aca3-4f0a-bdcc-861553173ae8"
      },
      "source": [
        "rmse_df.groupby([\"Dataset\", \"Model\"]).agg([\"mean\", \"std\"])"
      ],
      "execution_count": 47,
      "outputs": [
        {
          "output_type": "execute_result",
          "data": {
            "text/html": [
              "<div>\n",
              "<style scoped>\n",
              "    .dataframe tbody tr th:only-of-type {\n",
              "        vertical-align: middle;\n",
              "    }\n",
              "\n",
              "    .dataframe tbody tr th {\n",
              "        vertical-align: top;\n",
              "    }\n",
              "\n",
              "    .dataframe thead tr th {\n",
              "        text-align: left;\n",
              "    }\n",
              "\n",
              "    .dataframe thead tr:last-of-type th {\n",
              "        text-align: right;\n",
              "    }\n",
              "</style>\n",
              "<table border=\"1\" class=\"dataframe\">\n",
              "  <thead>\n",
              "    <tr>\n",
              "      <th></th>\n",
              "      <th></th>\n",
              "      <th colspan=\"2\" halign=\"left\">Arousal_RMSE</th>\n",
              "      <th colspan=\"2\" halign=\"left\">Valence_RMSE</th>\n",
              "    </tr>\n",
              "    <tr>\n",
              "      <th></th>\n",
              "      <th></th>\n",
              "      <th>mean</th>\n",
              "      <th>std</th>\n",
              "      <th>mean</th>\n",
              "      <th>std</th>\n",
              "    </tr>\n",
              "    <tr>\n",
              "      <th>Dataset</th>\n",
              "      <th>Model</th>\n",
              "      <th></th>\n",
              "      <th></th>\n",
              "      <th></th>\n",
              "      <th></th>\n",
              "    </tr>\n",
              "  </thead>\n",
              "  <tbody>\n",
              "    <tr>\n",
              "      <th rowspan=\"2\" valign=\"top\">Test</th>\n",
              "      <th>Ensemble (5)</th>\n",
              "      <td>0.208500</td>\n",
              "      <td>0.001922</td>\n",
              "      <td>0.208026</td>\n",
              "      <td>0.001429</td>\n",
              "    </tr>\n",
              "    <tr>\n",
              "      <th>Single (10)</th>\n",
              "      <td>0.217916</td>\n",
              "      <td>0.007031</td>\n",
              "      <td>0.214290</td>\n",
              "      <td>0.005548</td>\n",
              "    </tr>\n",
              "    <tr>\n",
              "      <th rowspan=\"2\" valign=\"top\">Train</th>\n",
              "      <th>Ensemble (5)</th>\n",
              "      <td>0.158966</td>\n",
              "      <td>0.000804</td>\n",
              "      <td>0.169477</td>\n",
              "      <td>0.001399</td>\n",
              "    </tr>\n",
              "    <tr>\n",
              "      <th>Single (10)</th>\n",
              "      <td>0.166842</td>\n",
              "      <td>0.003715</td>\n",
              "      <td>0.177646</td>\n",
              "      <td>0.002092</td>\n",
              "    </tr>\n",
              "  </tbody>\n",
              "</table>\n",
              "</div>"
            ],
            "text/plain": [
              "                     Arousal_RMSE           Valence_RMSE          \n",
              "                             mean       std         mean       std\n",
              "Dataset Model                                                     \n",
              "Test    Ensemble (5)     0.208500  0.001922     0.208026  0.001429\n",
              "        Single (10)      0.217916  0.007031     0.214290  0.005548\n",
              "Train   Ensemble (5)     0.158966  0.000804     0.169477  0.001399\n",
              "        Single (10)      0.166842  0.003715     0.177646  0.002092"
            ]
          },
          "metadata": {
            "tags": []
          },
          "execution_count": 47
        }
      ]
    },
    {
      "cell_type": "markdown",
      "metadata": {
        "id": "ENiVdngXGHZD"
      },
      "source": [
        "# Model for the app"
      ]
    },
    {
      "cell_type": "code",
      "metadata": {
        "id": "CzTSI8YfGI-w"
      },
      "source": [
        "SEQ_LEN = 60\n",
        "HIDDEN_SIZE = 30\n",
        "DROPOUT = 0.25\n",
        "BATCH_SIZE = 32\n",
        "\n",
        "ids = list(train_ids) + list(valid_ids) + list(test_ids)\n",
        "\n",
        "train_X = (load_X(\"paa_features_librosa\", ids, seq_len = SEQ_LEN) - mean) / std\n",
        "train_a = torch.tensor(arousal.loc[ids].to_numpy().flatten(), dtype = torch.float)\n",
        "train_v = torch.tensor(valence.loc[ids].to_numpy().flatten(), dtype = torch.float)\n",
        "\n",
        "train_dataset = TensorDataset(train_X, train_a, train_v)\n",
        "train_loader = DataLoader(train_dataset, batch_size = BATCH_SIZE, shuffle = True)"
      ],
      "execution_count": 48,
      "outputs": []
    },
    {
      "cell_type": "code",
      "metadata": {
        "id": "CO8AZxEmLuDE"
      },
      "source": [
        "models = [train_model(ParallelGRU(hidden_size = HIDDEN_SIZE, num_layers = 1, p_dropout = DROPOUT), train_loader, epochs = 5) for _ in range(5)]"
      ],
      "execution_count": 52,
      "outputs": []
    },
    {
      "cell_type": "code",
      "metadata": {
        "id": "c_1iqQTGLwRC"
      },
      "source": [
        "for i, model in enumerate(models):\n",
        "  torch.save(model.state_dict(), f\"/content/drive/MyDrive/UJ/ML/Project/trained_models/parallel/model{i}\")"
      ],
      "execution_count": 55,
      "outputs": []
    }
  ]
}